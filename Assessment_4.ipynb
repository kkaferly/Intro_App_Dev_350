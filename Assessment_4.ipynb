{
 "cells": [
  {
   "cell_type": "markdown",
   "source": [
    "<strong>Verbalize a Number</strong> - Write a function with header <em>def verbalizeNumber(number):</em> that accepts a positive whole number with at most 27 digits as input and then displays a verbalization of the number. "
   ],
   "metadata": {}
  },
  {
   "cell_type": "code",
   "execution_count": 26,
   "source": [
    "def verbalizeNumber(number):\n",
    "\n",
    "   ones = number % 1000\n",
    "   number = number / 1000\n",
    "   thousand = number % 1000\n",
    "   number = number / 1000\n",
    "   million = number % 1000\n",
    "   number = number /1000\n",
    "   billion = number % 1000\n",
    "   number = number /1000\n",
    "   trillion = number % 1000\n",
    "   number = number / 1000\n",
    "   quadrillion = number % 1000\n",
    "   number = number / 1000\n",
    "   quintillion = number % 1000\n",
    "   number = number / 1000\n",
    "   sextillion = number % 1000\n",
    "   number = number / 1000\n",
    "   septillion = number\n",
    "\n",
    "   print(\"%i septillion\\n %i sextillion\\n %i quintillion\\n %i quadrillion\\n %i trillion\\n %i billion\\n %i million\\n %i thousand\\n %i\" % (septillion, sextillion, quintillion, quadrillion, trillion, billion, million, thousand, ones))\n",
    "\n",
    "verbalizeNumber(123000004056777888999012345)"
   ],
   "outputs": [
    {
     "output_type": "stream",
     "name": "stdout",
     "text": [
      "123 septillion\n",
      " 0 sextillion\n",
      " 4 quintillion\n",
      " 56 quadrillion\n",
      " 777 trillion\n",
      " 888 billion\n",
      " 648 million\n",
      " 32 thousand\n",
      " 345\n"
     ]
    }
   ],
   "metadata": {}
  },
  {
   "cell_type": "markdown",
   "source": [
    "<strong>Alphabetical Order</strong> - The following words have three consecutive letters that are also consecutive letters in the alphabet: THIRSTY, NOPE, STUDENT. Write a program that accepts a word as input and determines whether or not it has three consecutive letters that are consecutive letters in the alphabet. The program should use a Boolean-valued function named isTripleConsecutive that accepts an entire word as input."
   ],
   "metadata": {}
  },
  {
   "cell_type": "code",
   "execution_count": 32,
   "source": [
    "def isTripleConsecutive(): \n",
    "    word = input(\"Enter a word: \")\n",
    "    for i in range(len(word) - 2) : \n",
    "        if ord(word[i]) + 1 == ord(word[i + 1]) and ord(word[i + 1]) + 1 == ord(word[i + 2]):  \n",
    "            print(f\"{word} contains three successive letters in consecutive alphabetical order.\") \n",
    "            return  \n",
    "    print(f\"{word} does not contain three consecutive letters\")\n",
    "\n",
    "isTripleConsecutive()"
   ],
   "outputs": [
    {
     "output_type": "stream",
     "name": "stdout",
     "text": [
      "HIJACK contains three successive letters in consecutive alphabetical order.\n"
     ]
    }
   ],
   "metadata": {}
  },
  {
   "cell_type": "markdown",
   "source": [
    "<strong>ISBN Validator</strong> - Every book is identified by a 10-character International Standard Book Number (ISBN), which is usually printed on the back cover of the book. Write a program to accept an ISBN type number (including the hyphens) as input, calculate the sum (*), and tell if it is a valid ISBN."
   ],
   "metadata": {}
  },
  {
   "cell_type": "code",
   "execution_count": 119,
   "source": [
    "def checkISBN():\n",
    "    str1 = input(\"Enter an ISBN: \")\n",
    "    ISBN = str1.replace(\"-\", \"\")\n",
    "    check = 0\n",
    "    mult = 10\n",
    "    lenISBN = len(ISBN)\n",
    "\n",
    "    if (str(ISBN[0:9]).isnumeric() and str(ISBN[-1] == \"X\")) or (str(ISBN[0:10]).isnumeric()):\n",
    "        if str(ISBN[-1]) == \"X\":\n",
    "            ISBN = ISBN.replace(\"X\", \"10\")\n",
    "            lenISBN = lenISBN - 2\n",
    "            for i in range(0, 9):\n",
    "                num = str(ISBN[i])\n",
    "                num = int(num) * mult\n",
    "                check = check + num\n",
    "                mult -= 1\n",
    "            check = check + 10\n",
    "        else:\n",
    "            for i in range(lenISBN):\n",
    "                num = str(ISBN[i])\n",
    "                num = int(num) * mult \n",
    "                check = check + num\n",
    "                mult -= 1\n",
    "\n",
    "        if check % 11 == 0:\n",
    "            print(\"The number is valid\")\n",
    "        else:\n",
    "            print(\"The number is invalid\")\n",
    "    else:\n",
    "        print(\"The number is invalid\")\n",
    "\n",
    "checkISBN()"
   ],
   "outputs": [
    {
     "output_type": "stream",
     "name": "stdout",
     "text": [
      "The number is valid\n"
     ]
    }
   ],
   "metadata": {}
  }
 ],
 "metadata": {
  "orig_nbformat": 4,
  "language_info": {
   "name": "python",
   "version": "3.9.5",
   "mimetype": "text/x-python",
   "codemirror_mode": {
    "name": "ipython",
    "version": 3
   },
   "pygments_lexer": "ipython3",
   "nbconvert_exporter": "python",
   "file_extension": ".py"
  },
  "kernelspec": {
   "name": "python3",
   "display_name": "Python 3.9.5 64-bit ('base': conda)"
  },
  "interpreter": {
   "hash": "fed022698049d383c9dda41b5f78a938d70f3d53d28a8c05baaf1f6cbcf866d0"
  }
 },
 "nbformat": 4,
 "nbformat_minor": 2
}