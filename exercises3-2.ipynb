{
 "cells": [
  {
   "cell_type": "markdown",
   "source": [
    "Exercises 1 - 14, determine the output displayed."
   ],
   "metadata": {}
  },
  {
   "cell_type": "code",
   "execution_count": 1,
   "source": [
    "# 1\n",
    "num = 4\n",
    "if num <= 9:\n",
    "    print(\"Less than ten.\")\n",
    "elif num == 4:\n",
    "    print(\"Equal to four\")"
   ],
   "outputs": [
    {
     "output_type": "stream",
     "name": "stdout",
     "text": [
      "Less than ten.\n"
     ]
    }
   ],
   "metadata": {}
  },
  {
   "cell_type": "code",
   "execution_count": 2,
   "source": [
    "# 2\n",
    "gpa = 3.49\n",
    "result = \"\"\n",
    "if gpa >= 3.5:\n",
    "    result = \"Honors\"\n",
    "print(result + \"Student\")"
   ],
   "outputs": [
    {
     "output_type": "stream",
     "name": "stdout",
     "text": [
      "Student\n"
     ]
    }
   ],
   "metadata": {}
  },
  {
   "cell_type": "code",
   "execution_count": 3,
   "source": [
    "# 3\n",
    "print('a' < 'B' < 'c')"
   ],
   "outputs": [
    {
     "output_type": "stream",
     "name": "stdout",
     "text": [
      "False\n"
     ]
    }
   ],
   "metadata": {}
  },
  {
   "cell_type": "code",
   "execution_count": 4,
   "source": [
    "# 4\n",
    "print('A' < 'B' < 'c')"
   ],
   "outputs": [
    {
     "output_type": "stream",
     "name": "stdout",
     "text": [
      "True\n"
     ]
    }
   ],
   "metadata": {}
  },
  {
   "cell_type": "code",
   "execution_count": 7,
   "source": [
    "# 5\n",
    "a = 5\n",
    "sentence = \"\"\n",
    "if ((3 * a) - 4) < 12:\n",
    "    sentence = \"Remember, \"\n",
    "print(sentence + \"tomorrow is another day.\")"
   ],
   "outputs": [
    {
     "output_type": "stream",
     "name": "stdout",
     "text": [
      "Remember, tomorrow is another day.\n"
     ]
    }
   ],
   "metadata": {}
  },
  {
   "cell_type": "code",
   "execution_count": 8,
   "source": [
    "# 6\n",
    "change = 356\n",
    "if change >= 100:\n",
    "    print(\"Your change contains\", change // 100, \"dollars.\")\n",
    "else:\n",
    "    print(\"Your change contains no dollars.\")"
   ],
   "outputs": [
    {
     "output_type": "stream",
     "name": "stdout",
     "text": [
      "Your change contains 3 dollars.\n"
     ]
    }
   ],
   "metadata": {}
  },
  {
   "cell_type": "code",
   "execution_count": 9,
   "source": [
    "# 7\n",
    "a = 2\n",
    "b = 3\n",
    "c = 5\n",
    "if (a * b) < c:\n",
    "    b = 7\n",
    "else:\n",
    "    b = (c * a)\n",
    "print(b)"
   ],
   "outputs": [
    {
     "output_type": "stream",
     "name": "stdout",
     "text": [
      "10\n"
     ]
    }
   ],
   "metadata": {}
  },
  {
   "cell_type": "code",
   "execution_count": 11,
   "source": [
    "# 8\n",
    "length = eval(input(\"Enter length of cloth in yards: \"))\n",
    "if length < 1:\n",
    "    cost = 3.00\n",
    "else:\n",
    "    cost = 3.00 + ((length - 1) * 2.50)\n",
    "result = \"Cost of cloth is ${0:0.2f}.\".format(cost)\n",
    "print(result)"
   ],
   "outputs": [
    {
     "output_type": "stream",
     "name": "stdout",
     "text": [
      "Cost of cloth is $15.50.\n"
     ]
    }
   ],
   "metadata": {}
  },
  {
   "cell_type": "code",
   "execution_count": 12,
   "source": [
    "# 9\n",
    "letter = input(\"Enter A, B, or C: \")\n",
    "letter = letter.upper()\n",
    "if letter == \"A\":\n",
    "    print(\"A, my name is Alice.\")\n",
    "elif letter == \"B\":\n",
    "    print(\"To be, or not to be.\")\n",
    "elif letter == \"C\":\n",
    "    print(\"Oh, say, can you see.\")\n",
    "else:\n",
    "    print(\"You did not enter a valid letter\")"
   ],
   "outputs": [
    {
     "output_type": "stream",
     "name": "stdout",
     "text": [
      "To be, or not to be.\n"
     ]
    }
   ],
   "metadata": {}
  },
  {
   "cell_type": "code",
   "execution_count": 15,
   "source": [
    "# 10\n",
    "isvowel = False\n",
    "letter = input(\"Enter a letter: \")\n",
    "letter = letter.upper()\n",
    "if (letter in \"AEIOU\"):\n",
    "    isvowel = True\n",
    "if isvowel:\n",
    "    print(letter, \"is a vowel.\")\n",
    "elif (not(65 <= ord(letter) <= 90)):\n",
    "    print(\"You did not enter a letter.\")\n",
    "else:\n",
    "    print(letter, \"is not a vowel\")"
   ],
   "outputs": [
    {
     "output_type": "stream",
     "name": "stdout",
     "text": [
      "A is a vowel.\n"
     ]
    }
   ],
   "metadata": {}
  },
  {
   "cell_type": "code",
   "execution_count": 16,
   "source": [
    "# 11\n",
    "a = 5\n",
    "if (a > 2) and ((a == 3) or (a < 7)):\n",
    "    print(\"Hi\")"
   ],
   "outputs": [
    {
     "output_type": "stream",
     "name": "stdout",
     "text": [
      "Hi\n"
     ]
    }
   ],
   "metadata": {}
  },
  {
   "cell_type": "code",
   "execution_count": 17,
   "source": [
    "# 12\n",
    "number = 5\n",
    "if number < 0:\n",
    "    print(\"negative\")\n",
    "else:\n",
    "    if number == 0:\n",
    "        print(\"zero\")\n",
    "    else:\n",
    "        print(\"positive\")"
   ],
   "outputs": [
    {
     "output_type": "stream",
     "name": "stdout",
     "text": [
      "positive\n"
     ]
    }
   ],
   "metadata": {}
  },
  {
   "cell_type": "code",
   "execution_count": 18,
   "source": [
    "# 13\n",
    "if \"spam\":\n",
    "    print(\"A nonempty string is true.\")\n",
    "else:\n",
    "    print(\"A nonempty string is false.\")"
   ],
   "outputs": [
    {
     "output_type": "stream",
     "name": "stdout",
     "text": [
      "A nonempty string is true.\n"
     ]
    }
   ],
   "metadata": {}
  },
  {
   "cell_type": "code",
   "execution_count": 20,
   "source": [
    "# 14\n",
    "if \"\":\n",
    "    print(\"An empty string is true.\")\n",
    "else:\n",
    "    print(\"An empty string is false.\")"
   ],
   "outputs": [
    {
     "output_type": "stream",
     "name": "stdout",
     "text": [
      "An empty string is false.\n"
     ]
    }
   ],
   "metadata": {}
  },
  {
   "cell_type": "markdown",
   "source": [
    "Exercises 25 - 43, write a program to answer the questions."
   ],
   "metadata": {}
  },
  {
   "cell_type": "code",
   "execution_count": 28,
   "source": [
    "# 25 - Resaurant Tip\n",
    "bill = eval(input(\"Enter amount of bill: \"))\n",
    "tip = bill * .15\n",
    "if tip > 2:\n",
    "    print(\"Tip is ${0:.2f}\".format(tip))\n",
    "else:\n",
    "    print(\"Tip is $2.00\")"
   ],
   "outputs": [
    {
     "output_type": "stream",
     "name": "stdout",
     "text": [
      "Tip is $3.90\n"
     ]
    }
   ],
   "metadata": {}
  },
  {
   "cell_type": "code",
   "execution_count": 31,
   "source": [
    "# 26 - Cost of Bagels\n",
    "bagels = eval(input(\"Enter number of bagels: \"))\n",
    "if bagels >= 6:\n",
    "    print(\"Cost is ${0:.2f}\".format(bagels * .60))\n",
    "else:\n",
    "    print(\"Cost is ${0:.2f}\".format(bagels * .75))"
   ],
   "outputs": [
    {
     "output_type": "stream",
     "name": "stdout",
     "text": [
      "Cost is $7.20\n"
     ]
    }
   ],
   "metadata": {}
  },
  {
   "cell_type": "code",
   "execution_count": 34,
   "source": [
    "# 27 - Cost of Widgets\n",
    "widgets = eval(input(\"Enter number of widgets: \"))\n",
    "if widgets >= 100:\n",
    "    print(\"Cost is ${0:.2f}\".format(widgets * .20))\n",
    "else:\n",
    "    print(\"Cost is ${0:.2f}\".format(widgets * .25))"
   ],
   "outputs": [
    {
     "output_type": "stream",
     "name": "stdout",
     "text": [
      "Cost is $40.00\n"
     ]
    }
   ],
   "metadata": {}
  },
  {
   "cell_type": "code",
   "execution_count": 41,
   "source": [
    "# 28 - Cost of Copies\n",
    "copies = eval(input(\"Enter number of copies: \"))\n",
    "if copies <= 100:\n",
    "    print(\"Cost is ${0:.2f}\".format(copies * .05))\n",
    "else:\n",
    "    print(\"Cost is ${0:.2f}\".format((100 * .05) + ((copies - 100) * .03)))"
   ],
   "outputs": [
    {
     "output_type": "stream",
     "name": "stdout",
     "text": [
      "Cost is $5.75\n"
     ]
    }
   ],
   "metadata": {}
  },
  {
   "cell_type": "code",
   "execution_count": 43,
   "source": [
    "# 29 - Quiz\n",
    "guess = input(\"Who was the first Ronald McDonald? \")\n",
    "answer = \"Willard Scott\"\n",
    "if guess == answer:\n",
    "    print(\"You are correct\")\n",
    "else:\n",
    "    print(\"You are incorrect\")"
   ],
   "outputs": [
    {
     "output_type": "stream",
     "name": "stdout",
     "text": [
      "You are correct\n"
     ]
    }
   ],
   "metadata": {}
  },
  {
   "cell_type": "code",
   "execution_count": 59,
   "source": [
    "# 30 - Overtime Pay\n",
    "wage = eval(input(\"Enter hourly wage: \"))\n",
    "hours = eval(input(\"Enter number of hours worked: \"))\n",
    "if hours <= 40:\n",
    "    pay = wage * hours\n",
    "    print(\"Gross pay for week is ${0:.2f}\".format(pay))\n",
    "else:\n",
    "    pay = ((40 * wage) + ((1.5 * wage) * (hours - 40)))\n",
    "    print(\"Gross pay for week is ${0:.2f}\".format(pay))"
   ],
   "outputs": [
    {
     "output_type": "stream",
     "name": "stdout",
     "text": [
      "Gross pay for week is $631.25\n"
     ]
    }
   ],
   "metadata": {}
  },
  {
   "cell_type": "code",
   "execution_count": 63,
   "source": [
    "# 31 - Compute an Average\n",
    "score1 = eval(input(\"Enter first score: \"))\n",
    "score2 = eval(input(\"Enter second score: \"))\n",
    "score3 = eval(input(\"Enter third score: \"))\n",
    "output = \"Average of two highest scores is \"\n",
    "if score1 > score3 and score2 > score3:\n",
    "    print(\"{0} {1:.2f}\".format(output, (score1 + score2) / 2))\n",
    "elif score2 > score1 and score3 > score1:\n",
    "    print(\"{0} {1:.2f}\".format(output, (score2 + score3) / 2))\n",
    "elif score3 > score2 and score1 > score2:\n",
    "    print(\"{0} {1:.2f}\".format(output, (score3 + score1) / 2))\n"
   ],
   "outputs": [
    {
     "output_type": "stream",
     "name": "stdout",
     "text": [
      "Average of two highest scores is  92.00\n"
     ]
    }
   ],
   "metadata": {}
  },
  {
   "cell_type": "code",
   "execution_count": 67,
   "source": [
    "# 32 - Pig Latin\n",
    "word = input(\"Enter word to translate: \")\n",
    "word = word.lower()\n",
    "vowel = \"aeiou\"\n",
    "consonant = \"'bcdfghjklmnpqrstvwxyz\"\n",
    "if word[0] in vowel:\n",
    "    print(\"The word in Pig Latin is {0}\".format(word + \"way\"))\n",
    "elif word[0] and word[1] in consonant:\n",
    "    print(\"The word in Pig Latin is {0}\".format(word[2:] + word[0:2] + 'ay'))"
   ],
   "outputs": [
    {
     "output_type": "stream",
     "name": "stdout",
     "text": [
      "The word in Pig Latin is ipchay\n"
     ]
    }
   ],
   "metadata": {}
  },
  {
   "cell_type": "code",
   "execution_count": 71,
   "source": [
    "# 33 - Make Change\n",
    "weight = eval(input(\"Enter weight in pounds: \"))\n",
    "payment = eval(input(\"Enter payment in dollars: \"))\n",
    "price = 2.5\n",
    "cost = weight * price\n",
    "if cost < payment:\n",
    "    print(\"Your change is ${0:.2f}.\".format(payment - cost))\n",
    "else:\n",
    "    print(\"You owe ${0:.2f}.\".format(cost - payment))"
   ],
   "outputs": [
    {
     "output_type": "stream",
     "name": "stdout",
     "text": [
      "Your change is $5.00.\n"
     ]
    }
   ],
   "metadata": {}
  },
  {
   "cell_type": "code",
   "execution_count": 87,
   "source": [
    "# 34 - Savings Account\n",
    "balance = int(input(\"Enter current balance: \"))\n",
    "withdrawal = int(input(\"Enter amount of withdrawal: \"))\n",
    "newBalance = balance - withdrawal\n",
    "if withdrawal > balance:\n",
    "    print(\"Withdrawal denied\")\n",
    "elif balance > newBalance and newBalance < 150:\n",
    "    print(\"The new balance is ${0:.2f}\".format(newBalance))\n",
    "    print(\"Balance below $150\")\n",
    "elif balance > newBalance:\n",
    "    print(\"The new balance is ${0:.2f}\".format(newBalance))"
   ],
   "outputs": [
    {
     "output_type": "stream",
     "name": "stdout",
     "text": [
      "The new balance is $175.00\n"
     ]
    }
   ],
   "metadata": {}
  },
  {
   "cell_type": "code",
   "execution_count": 88,
   "source": [
    "# 35 - Input Validation\n",
    "letter = input(\"Enter a single uppercase letter: \")\n",
    "if (len(letter) != 1) or (letter != letter.upper()):\n",
    "    print(\"You did not comply with the request.\")"
   ],
   "outputs": [
    {
     "output_type": "stream",
     "name": "stdout",
     "text": [
      "You did not comply with the request.\n"
     ]
    }
   ],
   "metadata": {}
  },
  {
   "cell_type": "code",
   "execution_count": 116,
   "source": [
    "# 36 - Year\n",
    "year = int(input(\"Enter a year: \"))\n",
    "if (year % 100) == 0 and (year % 400) != 0:\n",
    "    print(f\"{year} is not a leap year\")\n",
    "elif (year % 100) == 0 and (year % 4) == 0:\n",
    "    print(f\"{year} is a leap year\")\n",
    "elif (year % 4) == 0:\n",
    "    print(f\"{year} is a leap year\")\n",
    "else:\n",
    "    print(f\"{year} is not a leap year\")\n"
   ],
   "outputs": [
    {
     "output_type": "stream",
     "name": "stdout",
     "text": [
      "2016 is a leap year\n"
     ]
    }
   ],
   "metadata": {}
  },
  {
   "cell_type": "code",
   "execution_count": 127,
   "source": [
    "# 37 - Military Time\n",
    "time = int(input(\"Enter a military time (0000 to 2359): \"))\n",
    "stringTime = str(time)\n",
    "convert = time - 1200\n",
    "convert = str(convert)\n",
    "if time > 1200 and len(convert) == 3:\n",
    "    print(\"The regular time is {0}:{1} pm.\".format(convert[0], convert[1:]))\n",
    "elif time > 1200 and len(convert) != 3:\n",
    "    print(\"The regular time is {0}:{1} pm.\".format(convert[0:2], convert[2:]))\n",
    "elif len(stringTime) == 3:\n",
    "    print(\"The regular time is {0}:{1} am.\".format(stringTime[0], stringTime[1:]))\n",
    "else:\n",
    "    print(\"The regular time is {0}:{1} am.\".format(stringTime[0:2], stringTime[2:]))"
   ],
   "outputs": [
    {
     "output_type": "stream",
     "name": "stdout",
     "text": [
      "The regular time is 3:32 pm.\n"
     ]
    }
   ],
   "metadata": {}
  },
  {
   "cell_type": "code",
   "execution_count": 132,
   "source": [
    "# 38 - Railroad Properties\n",
    "options = (\"Reading\", \"Pennsylvania\", \"B & O\", \"Short Line\")\n",
    "print(\"The four railroad properties \\nare {0}, {1}, \\n{2}, and {3}.\".format(*options))\n",
    "choice = input(\"Which is not a railroad? \")\n",
    "if choice == \"Short Line\":\n",
    "    print(\"Correct \\nShort Line is a bus company\")\n",
    "else:\n",
    "    print(\"Incorrect\")"
   ],
   "outputs": [
    {
     "output_type": "stream",
     "name": "stdout",
     "text": [
      "The four railroad properties \n",
      "are Reading, Pennsylvania, \n",
      "B & O, and Short Line.\n",
      "Correct \n",
      "Short Line is a bus company\n"
     ]
    }
   ],
   "metadata": {}
  },
  {
   "cell_type": "code",
   "execution_count": 134,
   "source": [
    "# 39 - Interest Rates\n",
    "r1 = float(input(\"Enter annual rate of interest for Bank 1: \"))\n",
    "m1 = float(input(\"Enter number of compounding periods for Bank 1: \"))\n",
    "r2 = float(input(\"Enter annual rate of interest for Bank 2: \"))\n",
    "m2 = float(input(\"Enter number of compounding periods for Bank 2: \"))\n",
    "ir1 = r1 / (100 * m1)\n",
    "ir2 = r2 / (100 * m2)\n",
    "apy1 = ((1 + ir1) ** m1) - 1\n",
    "apy2 = ((1 + ir2) ** m2) - 1\n",
    "print(\"APY for Bank 1 is {0:.3%}\".format(apy1))\n",
    "print(\"APY for Bank 2 is {0:.3%}\".format(apy2))\n",
    "if apy1 == apy2:\n",
    "    print(\"Bank 1 and Bank 2 are equally good.\")\n",
    "elif apy1 > apy2:\n",
    "    print(\"Bank 1 is the better bank.\")\n",
    "elif apy2 > apy1:\n",
    "    print(\"Bank 2 is the better bank.\")"
   ],
   "outputs": [
    {
     "output_type": "stream",
     "name": "stdout",
     "text": [
      "APY for Bank 1 is 2.718%\n",
      "APY for Bank 2 is 2.726%\n",
      "Bank 2 is the better bank.\n"
     ]
    }
   ],
   "metadata": {}
  },
  {
   "cell_type": "code",
   "execution_count": 137,
   "source": [
    "# 40 - Graduation Honors\n",
    "gpa = eval(input(\"Enter your gpa: \"))\n",
    "if gpa > 0:\n",
    "    honors = \".\"\n",
    "    if gpa > 3.3:\n",
    "        honors = \" cum laude.\"\n",
    "        if gpa > 3.6:\n",
    "            homors = \" magna cum laude.\"\n",
    "            if gpa > 3.9:\n",
    "                honors = \" summa cum laude.\"\n",
    "print(\"You graduated\" + honors)"
   ],
   "outputs": [
    {
     "output_type": "stream",
     "name": "stdout",
     "text": [
      "You graduated.\n"
     ]
    }
   ],
   "metadata": {}
  },
  {
   "cell_type": "code",
   "execution_count": 140,
   "source": [
    "# 41 - Graduation Honors\n",
    "gpa = eval(input(\"Enter your gpa (2 through 4): \"))\n",
    "if not (2 <= gpa <= 4):\n",
    "    print(\"Invalid grade point average. Muster enter number between 2 and 4.\")\n",
    "else:\n",
    "    if gpa >= 3.9:\n",
    "        honors = \" summa cum laude.\"\n",
    "    elif gpa >= 3.6:\n",
    "        honors = \" magna cum laude.\"\n",
    "    elif gpa >= 3.3:\n",
    "        honors = \" cum laude.\"\n",
    "    else:\n",
    "        honors = \".\"\n",
    "    print(\"You graduated\" + honors)"
   ],
   "outputs": [
    {
     "output_type": "stream",
     "name": "stdout",
     "text": [
      "You graduated.\n"
     ]
    }
   ],
   "metadata": {}
  },
  {
   "cell_type": "code",
   "execution_count": 143,
   "source": [
    "# 42 - Second-Suit-Half-Off Sale\n",
    "suit1 = eval(input(\"Enter cost of first suite: \"))\n",
    "suit2 = eval(input(\"Enter cost of second suite: \"))\n",
    "if suit1 > suit2:\n",
    "    suit2 = suit2 / 2\n",
    "    print(\"Cost of the two suits is ${0:.2f}\".format(suit1 + suit2))\n",
    "else:\n",
    "    suit1 = suit1 / 2\n",
    "    print(\"Cost of the two suits is ${0:.2f}\".format(suit1 + suit2))"
   ],
   "outputs": [
    {
     "output_type": "stream",
     "name": "stdout",
     "text": [
      "Cost of the two suits is $685.24\n"
     ]
    }
   ],
   "metadata": {}
  },
  {
   "cell_type": "code",
   "execution_count": 146,
   "source": [
    "# 43 - Income Tax\n",
    "income = eval(input(\"Enter taxable income: \"))\n",
    "if income <= 20000:\n",
    "    tax = .02 * income\n",
    "else:\n",
    "    if income <= 50000:\n",
    "        tax = 400 + .025 * (income - 20000)\n",
    "    else:\n",
    "        tax = 1150 + .035 * (income - 50000)\n",
    "print(\"Your tax is ${0:.2f}\".format(tax))"
   ],
   "outputs": [
    {
     "output_type": "stream",
     "name": "stdout",
     "text": [
      "Your tax is $6910.62\n"
     ]
    }
   ],
   "metadata": {}
  }
 ],
 "metadata": {
  "orig_nbformat": 4,
  "language_info": {
   "name": "python",
   "version": "3.9.5",
   "mimetype": "text/x-python",
   "codemirror_mode": {
    "name": "ipython",
    "version": 3
   },
   "pygments_lexer": "ipython3",
   "nbconvert_exporter": "python",
   "file_extension": ".py"
  },
  "kernelspec": {
   "name": "python3",
   "display_name": "Python 3.9.5 64-bit ('base': conda)"
  },
  "interpreter": {
   "hash": "fed022698049d383c9dda41b5f78a938d70f3d53d28a8c05baaf1f6cbcf866d0"
  }
 },
 "nbformat": 4,
 "nbformat_minor": 2
}