{
 "cells": [
  {
   "cell_type": "markdown",
   "metadata": {},
   "source": [
    "<strong>Guess My Number</strong> - Write a robust program that randomly selects a number from 1 through 100 and asks the user to guess the number. At each guess the user should be told if the guess is proper, and if so, whether it is too hight or too low. The user should be told of the number of guess when finally guessing the correct number."
   ]
  },
  {
   "cell_type": "code",
   "execution_count": 55,
   "metadata": {},
   "outputs": [
    {
     "name": "stdout",
     "output_type": "stream",
     "text": [
      "I've thought of a number from 1 through 100.\n",
      "Guess the number: 50\n",
      "Too low\n",
      "Try again: 123\n",
      "Number must be from 1 through 100.\n",
      "You did not enter a number.\n",
      "Try again: 60\n",
      "Too low\n",
      "Try again: 70\n",
      "Too low\n",
      "Try again: 90\n",
      "Too high\n",
      "Try again: 85\n",
      "Correct. You took 7 guesses.\n"
     ]
    }
   ],
   "source": [
    "# Import library\n",
    "import random\n",
    "\n",
    "# Start program\n",
    "def numberGuessingGame():\n",
    "    tries = 0\n",
    "    num = randomNum()\n",
    "    userInput(tries, num)\n",
    "\n",
    "# Generate random number\n",
    "def randomNum():\n",
    "    num = random.randint(1, 100) # Range 1 through 100\n",
    "    print(\"I've thought of a number from 1 through 100.\")\n",
    "\n",
    "    return num \n",
    "\n",
    "# Accepts users guesses and verifies that guess is a number and in range\n",
    "def userInput(tries, num):\n",
    "        tries += 1\n",
    "        try:\n",
    "            # Changes prompt based on number of attempts\n",
    "            if tries == 1:\n",
    "                guess = int(input(\"Guess the number: \"))\n",
    "                print(\"Guess the number: {0}\".format(guess))\n",
    "            else:\n",
    "                guess = int(input(\"Try again: \"))\n",
    "                print(\"Try again: {0}\".format(guess))\n",
    "        except ValueError:\n",
    "            print(\"You did not enter a number.\")\n",
    "            userInput(tries, num)\n",
    "        else:\n",
    "            if guess <= 100 and guess >= 1:\n",
    "                checker(num, guess, tries)\n",
    "            else:\n",
    "                print(\"Number must be from 1 through 100.\")\n",
    "                userInput(tries, num)\n",
    "\n",
    "# Compares users input to randomly generated number\n",
    "def checker(num, guess, tries):\n",
    "    if guess > num:\n",
    "        print(\"Too high\")\n",
    "        userInput(tries, num)\n",
    "    elif guess < num:\n",
    "        print(\"Too low\")\n",
    "        userInput(tries, num)\n",
    "    elif guess == num:\n",
    "        # Changes correct answer output based on number of attempts\n",
    "        if tries == 1:\n",
    "            print(\"Correct. You took 1 guess.\")\n",
    "        else:\n",
    "            print(\"Correct. You took {0} guesses.\".format(tries))\n",
    "\n",
    "\n",
    "# Initialize program\n",
    "numberGuessingGame()"
   ]
  },
  {
   "cell_type": "code",
   "execution_count": null,
   "metadata": {},
   "outputs": [],
   "source": []
  }
 ],
 "metadata": {
  "interpreter": {
   "hash": "aa09fbac91d2fb9d8e22e9f018830dd8762ab63f7e7e744ba919a88f7139f2d2"
  },
  "kernelspec": {
   "display_name": "Python 3.9.5 64-bit ('base': conda)",
   "name": "python3"
  },
  "language_info": {
   "codemirror_mode": {
    "name": "ipython",
    "version": 3
   },
   "file_extension": ".py",
   "mimetype": "text/x-python",
   "name": "python",
   "nbconvert_exporter": "python",
   "pygments_lexer": "ipython3",
   "version": "3.9.5"
  },
  "orig_nbformat": 4
 },
 "nbformat": 4,
 "nbformat_minor": 2
}
