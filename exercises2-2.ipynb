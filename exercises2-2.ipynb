{
 "cells": [
  {
   "cell_type": "markdown",
   "source": [
    "Exercises 1 - 4, determine the output displayed by the lines of code."
   ],
   "metadata": {}
  },
  {
   "cell_type": "code",
   "execution_count": 1,
   "source": [
    "# 1\n",
    "print(\"Python\")"
   ],
   "outputs": [
    {
     "output_type": "stream",
     "name": "stdout",
     "text": [
      "Python\n"
     ]
    }
   ],
   "metadata": {}
  },
  {
   "cell_type": "code",
   "execution_count": 2,
   "source": [
    "# 2\n",
    "print(\"Hello\")"
   ],
   "outputs": [
    {
     "output_type": "stream",
     "name": "stdout",
     "text": [
      "Hello\n"
     ]
    }
   ],
   "metadata": {}
  },
  {
   "cell_type": "code",
   "execution_count": 3,
   "source": [
    "# 3\n",
    "var = \"Ernie\"\n",
    "\n",
    "print(var)"
   ],
   "outputs": [
    {
     "output_type": "stream",
     "name": "stdout",
     "text": [
      "Ernie\n"
     ]
    }
   ],
   "metadata": {}
  },
  {
   "cell_type": "code",
   "execution_count": 4,
   "source": [
    "# 4\n",
    "var = \"Bert\"\n",
    "\n",
    "print(var)"
   ],
   "outputs": [
    {
     "output_type": "stream",
     "name": "stdout",
     "text": [
      "Bert\n"
     ]
    }
   ],
   "metadata": {}
  },
  {
   "cell_type": "markdown",
   "source": [
    "Exercises 5 - 46, determine the value of the expression"
   ],
   "metadata": {}
  },
  {
   "cell_type": "code",
   "execution_count": 5,
   "source": [
    "# 5\n",
    "print(\"Python\" [4])"
   ],
   "outputs": [
    {
     "output_type": "stream",
     "name": "stdout",
     "text": [
      "o\n"
     ]
    }
   ],
   "metadata": {}
  },
  {
   "cell_type": "code",
   "execution_count": 6,
   "source": [
    "# 6\n",
    "print(\"Python\" [-2])"
   ],
   "outputs": [
    {
     "output_type": "stream",
     "name": "stdout",
     "text": [
      "o\n"
     ]
    }
   ],
   "metadata": {}
  },
  {
   "cell_type": "code",
   "execution_count": 7,
   "source": [
    "# 7\n",
    "print(\"Python\" [-3])"
   ],
   "outputs": [
    {
     "output_type": "stream",
     "name": "stdout",
     "text": [
      "h\n"
     ]
    }
   ],
   "metadata": {}
  },
  {
   "cell_type": "code",
   "execution_count": 8,
   "source": [
    "# 8\n",
    "print(\"Python\" [5])"
   ],
   "outputs": [
    {
     "output_type": "stream",
     "name": "stdout",
     "text": [
      "n\n"
     ]
    }
   ],
   "metadata": {}
  },
  {
   "cell_type": "code",
   "execution_count": 9,
   "source": [
    "# 9 \n",
    "print(\"Python\" [0:3])"
   ],
   "outputs": [
    {
     "output_type": "stream",
     "name": "stdout",
     "text": [
      "Pyt\n"
     ]
    }
   ],
   "metadata": {}
  },
  {
   "cell_type": "code",
   "execution_count": 10,
   "source": [
    "# 10\n",
    "print(\"Python\" [2:2])"
   ],
   "outputs": [
    {
     "output_type": "stream",
     "name": "stdout",
     "text": [
      "\n"
     ]
    }
   ],
   "metadata": {}
  },
  {
   "cell_type": "code",
   "execution_count": 11,
   "source": [
    "# 11\n",
    "print(\"Python\" [:2])"
   ],
   "outputs": [
    {
     "output_type": "stream",
     "name": "stdout",
     "text": [
      "Py\n"
     ]
    }
   ],
   "metadata": {}
  },
  {
   "cell_type": "code",
   "execution_count": 13,
   "source": [
    "# 12\n",
    "print(\"Python\" [2:])"
   ],
   "outputs": [
    {
     "output_type": "stream",
     "name": "stdout",
     "text": [
      "thon\n"
     ]
    }
   ],
   "metadata": {}
  },
  {
   "cell_type": "code",
   "execution_count": 14,
   "source": [
    "# 13\n",
    "print(\"Python\" [-3:-2])"
   ],
   "outputs": [
    {
     "output_type": "stream",
     "name": "stdout",
     "text": [
      "h\n"
     ]
    }
   ],
   "metadata": {}
  },
  {
   "cell_type": "code",
   "execution_count": 15,
   "source": [
    "# 14\n",
    "print(\"Python\" [-5:-1])"
   ],
   "outputs": [
    {
     "output_type": "stream",
     "name": "stdout",
     "text": [
      "ytho\n"
     ]
    }
   ],
   "metadata": {}
  },
  {
   "cell_type": "code",
   "execution_count": 16,
   "source": [
    "# 15\n",
    "print(\"Python\" [2:-2])"
   ],
   "outputs": [
    {
     "output_type": "stream",
     "name": "stdout",
     "text": [
      "th\n"
     ]
    }
   ],
   "metadata": {}
  },
  {
   "cell_type": "code",
   "execution_count": 17,
   "source": [
    "# 16\n",
    "print(\"Python\" [-4:4])"
   ],
   "outputs": [
    {
     "output_type": "stream",
     "name": "stdout",
     "text": [
      "th\n"
     ]
    }
   ],
   "metadata": {}
  },
  {
   "cell_type": "code",
   "execution_count": 18,
   "source": [
    "# 17\n",
    "print(\"Python\" [:])"
   ],
   "outputs": [
    {
     "output_type": "stream",
     "name": "stdout",
     "text": [
      "Python\n"
     ]
    }
   ],
   "metadata": {}
  },
  {
   "cell_type": "code",
   "execution_count": 19,
   "source": [
    "# 18\n",
    "print(\"Python\" [-10:10])"
   ],
   "outputs": [
    {
     "output_type": "stream",
     "name": "stdout",
     "text": [
      "Python\n"
     ]
    }
   ],
   "metadata": {}
  },
  {
   "cell_type": "code",
   "execution_count": 20,
   "source": [
    "# 19\n",
    "print(\"Python\" .find(\"tho\"))"
   ],
   "outputs": [
    {
     "output_type": "stream",
     "name": "stdout",
     "text": [
      "2\n"
     ]
    }
   ],
   "metadata": {}
  },
  {
   "cell_type": "code",
   "execution_count": 21,
   "source": [
    "# 20\n",
    "print(\"Python\" .find(\"ty\"))"
   ],
   "outputs": [
    {
     "output_type": "stream",
     "name": "stdout",
     "text": [
      "-1\n"
     ]
    }
   ],
   "metadata": {}
  },
  {
   "cell_type": "code",
   "execution_count": 22,
   "source": [
    "# 21\n",
    "print(\"Python\" .find(\"oh\"))"
   ],
   "outputs": [
    {
     "output_type": "stream",
     "name": "stdout",
     "text": [
      "-1\n"
     ]
    }
   ],
   "metadata": {}
  },
  {
   "cell_type": "code",
   "execution_count": 23,
   "source": [
    "# 22\n",
    "print(\"Python\" .find(\"Pyt\"))"
   ],
   "outputs": [
    {
     "output_type": "stream",
     "name": "stdout",
     "text": [
      "0\n"
     ]
    }
   ],
   "metadata": {}
  },
  {
   "cell_type": "code",
   "execution_count": 24,
   "source": [
    "# 23\n",
    "print(\"whippersnapper\" .rfind(\"pp\"))"
   ],
   "outputs": [
    {
     "output_type": "stream",
     "name": "stdout",
     "text": [
      "10\n"
     ]
    }
   ],
   "metadata": {}
  },
  {
   "cell_type": "code",
   "execution_count": 25,
   "source": [
    "# 24\n",
    "print(\"whippersnapper\" .find(\"pp\"))"
   ],
   "outputs": [
    {
     "output_type": "stream",
     "name": "stdout",
     "text": [
      "3\n"
     ]
    }
   ],
   "metadata": {}
  },
  {
   "cell_type": "code",
   "execution_count": 26,
   "source": [
    "# 25\n",
    "print(\"Mississippi\" .find(\"ss\"))"
   ],
   "outputs": [
    {
     "output_type": "stream",
     "name": "stdout",
     "text": [
      "2\n"
     ]
    }
   ],
   "metadata": {}
  },
  {
   "cell_type": "code",
   "execution_count": 27,
   "source": [
    "# 26\n",
    "print(\"Mississippi\" .rfind(\"ss\"))"
   ],
   "outputs": [
    {
     "output_type": "stream",
     "name": "stdout",
     "text": [
      "5\n"
     ]
    }
   ],
   "metadata": {}
  },
  {
   "cell_type": "code",
   "execution_count": 28,
   "source": [
    "# 27\n",
    "print(\"colonol\" .find(\"k\"))"
   ],
   "outputs": [
    {
     "output_type": "stream",
     "name": "stdout",
     "text": [
      "-1\n"
     ]
    }
   ],
   "metadata": {}
  },
  {
   "cell_type": "code",
   "execution_count": 29,
   "source": [
    "# 28\n",
    "print(\"Moscow\" .rfind(\"k\"))"
   ],
   "outputs": [
    {
     "output_type": "stream",
     "name": "stdout",
     "text": [
      "-1\n"
     ]
    }
   ],
   "metadata": {}
  },
  {
   "cell_type": "code",
   "execution_count": 30,
   "source": [
    "# 29\n",
    "print(\"Knickknack\" .count('k'))"
   ],
   "outputs": [
    {
     "output_type": "stream",
     "name": "stdout",
     "text": [
      "3\n"
     ]
    }
   ],
   "metadata": {}
  },
  {
   "cell_type": "code",
   "execution_count": 31,
   "source": [
    "# 30\n",
    "print(\"brrr\" .upper())"
   ],
   "outputs": [
    {
     "output_type": "stream",
     "name": "stdout",
     "text": [
      "BRRR\n"
     ]
    }
   ],
   "metadata": {}
  },
  {
   "cell_type": "code",
   "execution_count": 32,
   "source": [
    "# 31\n",
    "print(\"8 Ball\" .lower())"
   ],
   "outputs": [
    {
     "output_type": "stream",
     "name": "stdout",
     "text": [
      "8 ball\n"
     ]
    }
   ],
   "metadata": {}
  },
  {
   "cell_type": "code",
   "execution_count": 33,
   "source": [
    "# 32\n",
    "print(len(\"brrr\"))"
   ],
   "outputs": [
    {
     "output_type": "stream",
     "name": "stdout",
     "text": [
      "4\n"
     ]
    }
   ],
   "metadata": {}
  },
  {
   "cell_type": "code",
   "execution_count": 34,
   "source": [
    "# 33\n",
    "print(\"8 Ball\" .upper())"
   ],
   "outputs": [
    {
     "output_type": "stream",
     "name": "stdout",
     "text": [
      "8 BALL\n"
     ]
    }
   ],
   "metadata": {}
  },
  {
   "cell_type": "code",
   "execution_count": 35,
   "source": [
    "# 34\n",
    "print(\"whippersnapper\" .count(\"pp\"))"
   ],
   "outputs": [
    {
     "output_type": "stream",
     "name": "stdout",
     "text": [
      "2\n"
     ]
    }
   ],
   "metadata": {}
  },
  {
   "cell_type": "code",
   "execution_count": 36,
   "source": [
    "# 35\n",
    "print(\"Python\" [3:len(\"Python\")])"
   ],
   "outputs": [
    {
     "output_type": "stream",
     "name": "stdout",
     "text": [
      "hon\n"
     ]
    }
   ],
   "metadata": {}
  },
  {
   "cell_type": "code",
   "execution_count": 37,
   "source": [
    "# 36\n",
    "print(\"Python\" .lower())"
   ],
   "outputs": [
    {
     "output_type": "stream",
     "name": "stdout",
     "text": [
      "python\n"
     ]
    }
   ],
   "metadata": {}
  },
  {
   "cell_type": "code",
   "execution_count": 39,
   "source": [
    "# 37\n",
    "print(\"the artist\" .title())"
   ],
   "outputs": [
    {
     "output_type": "stream",
     "name": "stdout",
     "text": [
      "The Artist\n"
     ]
    }
   ],
   "metadata": {}
  },
  {
   "cell_type": "code",
   "execution_count": 40,
   "source": [
    "# 38\n",
    "print(len(\"Gravity    \" .rstrip()))"
   ],
   "outputs": [
    {
     "output_type": "stream",
     "name": "stdout",
     "text": [
      "7\n"
     ]
    }
   ],
   "metadata": {}
  },
  {
   "cell_type": "code",
   "execution_count": 41,
   "source": [
    "# 39\n",
    "print(len(\"Grand Hotel\" [:6] .rstrip()))"
   ],
   "outputs": [
    {
     "output_type": "stream",
     "name": "stdout",
     "text": [
      "5\n"
     ]
    }
   ],
   "metadata": {}
  },
  {
   "cell_type": "code",
   "execution_count": 42,
   "source": [
    "# 40\n",
    "print(\"king lear\" .title())"
   ],
   "outputs": [
    {
     "output_type": "stream",
     "name": "stdout",
     "text": [
      "King Lear\n"
     ]
    }
   ],
   "metadata": {}
  },
  {
   "cell_type": "code",
   "execution_count": 43,
   "source": [
    "# 41\n",
    "print(\"let it go\" .title() .find('G'))"
   ],
   "outputs": [
    {
     "output_type": "stream",
     "name": "stdout",
     "text": [
      "7\n"
     ]
    }
   ],
   "metadata": {}
  },
  {
   "cell_type": "code",
   "execution_count": 44,
   "source": [
    "# 42\n",
    "print(\"Hello World!\" .lower() .find('wo'))"
   ],
   "outputs": [
    {
     "output_type": "stream",
     "name": "stdout",
     "text": [
      "6\n"
     ]
    }
   ],
   "metadata": {}
  },
  {
   "cell_type": "code",
   "execution_count": 45,
   "source": [
    "# 43\n",
    "print(\"Amazon\" .lower() .count('a'))"
   ],
   "outputs": [
    {
     "output_type": "stream",
     "name": "stdout",
     "text": [
      "2\n"
     ]
    }
   ],
   "metadata": {}
  },
  {
   "cell_type": "code",
   "execution_count": 46,
   "source": [
    "# 44\n",
    "print(\"Python\" .upper() .find(\"tho\"))"
   ],
   "outputs": [
    {
     "output_type": "stream",
     "name": "stdout",
     "text": [
      "-1\n"
     ]
    }
   ],
   "metadata": {}
  },
  {
   "cell_type": "code",
   "execution_count": 47,
   "source": [
    "# 45\n",
    "print(\"King kONG\" .title())"
   ],
   "outputs": [
    {
     "output_type": "stream",
     "name": "stdout",
     "text": [
      "King Kong\n"
     ]
    }
   ],
   "metadata": {}
  },
  {
   "cell_type": "code",
   "execution_count": 48,
   "source": [
    "# 46\n",
    "print(\"all clear\" .title() .count('a'))"
   ],
   "outputs": [
    {
     "output_type": "stream",
     "name": "stdout",
     "text": [
      "1\n"
     ]
    }
   ],
   "metadata": {}
  },
  {
   "cell_type": "markdown",
   "source": [
    "Exercises 47 - 72, determine the output displayed by the lines of code."
   ],
   "metadata": {}
  },
  {
   "cell_type": "code",
   "execution_count": 49,
   "source": [
    "# 47\n",
    "a = 4\n",
    "b = 6\n",
    "c = \"Municipality\"\n",
    "d = \"pal\"\n",
    "\n",
    "print(len(c))\n",
    "print(c.upper())\n",
    "print(c [a:b] + c [b + 4:])\n",
    "print(c.find(d))"
   ],
   "outputs": [
    {
     "output_type": "stream",
     "name": "stdout",
     "text": [
      "12\n",
      "MUNICIPALITY\n",
      "city\n",
      "6\n"
     ]
    }
   ],
   "metadata": {}
  },
  {
   "cell_type": "code",
   "execution_count": 1,
   "source": [
    "# 48\n",
    "m = 4\n",
    "n = 3\n",
    "s = \"Microsoft\"\n",
    "t = \"soft\"\n",
    "print(len(s))\n",
    "print(s.lower())\n",
    "print(s [m:m + 2])\n",
    "print(s.find(t))"
   ],
   "outputs": [
    {
     "output_type": "stream",
     "name": "stdout",
     "text": [
      "9\n",
      "microsoft\n",
      "os\n",
      "5\n"
     ]
    }
   ],
   "metadata": {}
  },
  {
   "cell_type": "code",
   "execution_count": 2,
   "source": [
    "# 49\n",
    "print(\"f\" + \"lute\")"
   ],
   "outputs": [
    {
     "output_type": "stream",
     "name": "stdout",
     "text": [
      "flute\n"
     ]
    }
   ],
   "metadata": {}
  },
  {
   "cell_type": "code",
   "execution_count": 3,
   "source": [
    "# 50\n",
    "print(\"a\" + \"cute\")"
   ],
   "outputs": [
    {
     "output_type": "stream",
     "name": "stdout",
     "text": [
      "acute\n"
     ]
    }
   ],
   "metadata": {}
  },
  {
   "cell_type": "code",
   "execution_count": 4,
   "source": [
    "# 51\n",
    "print(\"Your age is \" + str(21) + \".\")"
   ],
   "outputs": [
    {
     "output_type": "stream",
     "name": "stdout",
     "text": [
      "Your age is 21.\n"
     ]
    }
   ],
   "metadata": {}
  },
  {
   "cell_type": "code",
   "execution_count": 5,
   "source": [
    "# 52\n",
    "print(\"Fred has \" + str(2) + \" children.\")"
   ],
   "outputs": [
    {
     "output_type": "stream",
     "name": "stdout",
     "text": [
      "Fred has 2 children.\n"
     ]
    }
   ],
   "metadata": {}
  },
  {
   "cell_type": "code",
   "execution_count": 6,
   "source": [
    "# 53\n",
    "r = \"A ROSE\"\n",
    "b = \" IS \"\n",
    "print(r + b + r + b + r)"
   ],
   "outputs": [
    {
     "output_type": "stream",
     "name": "stdout",
     "text": [
      "A ROSE IS A ROSE IS A ROSE\n"
     ]
    }
   ],
   "metadata": {}
  },
  {
   "cell_type": "code",
   "execution_count": 7,
   "source": [
    "# 54\n",
    "sentence = \"ALPHONSE TIPPYTOED AWAY.\"\n",
    "print(sentence [12:15] + sentence [3:6])"
   ],
   "outputs": [
    {
     "output_type": "stream",
     "name": "stdout",
     "text": [
      "PYTHON\n"
     ]
    }
   ],
   "metadata": {}
  },
  {
   "cell_type": "code",
   "execution_count": 8,
   "source": [
    "# 55\n",
    "var = \"WALLA\"\n",
    "var += var\n",
    "print(var)"
   ],
   "outputs": [
    {
     "output_type": "stream",
     "name": "stdout",
     "text": [
      "WALLAWALLA\n"
     ]
    }
   ],
   "metadata": {}
  },
  {
   "cell_type": "code",
   "execution_count": 10,
   "source": [
    "# 56\n",
    "str1 = \"mur\"\n",
    "str1 += str1\n",
    "print(str1)"
   ],
   "outputs": [
    {
     "output_type": "stream",
     "name": "stdout",
     "text": [
      "murmur\n"
     ]
    }
   ],
   "metadata": {}
  },
  {
   "cell_type": "code",
   "execution_count": 11,
   "source": [
    "# 57\n",
    "str1 = \"good\"\n",
    "str1 += \"bye\"\n",
    "print(str1)"
   ],
   "outputs": [
    {
     "output_type": "stream",
     "name": "stdout",
     "text": [
      "goodbye\n"
     ]
    }
   ],
   "metadata": {}
  },
  {
   "cell_type": "code",
   "execution_count": 12,
   "source": [
    "# 58\n",
    "var = \"eight\"\n",
    "var += \"h\"\n",
    "print(var)"
   ],
   "outputs": [
    {
     "output_type": "stream",
     "name": "stdout",
     "text": [
      "eighth\n"
     ]
    }
   ],
   "metadata": {}
  },
  {
   "cell_type": "code",
   "execution_count": 13,
   "source": [
    "# 59\n",
    "print('M' + ('m' * 6) + '.')"
   ],
   "outputs": [
    {
     "output_type": "stream",
     "name": "stdout",
     "text": [
      "Mmmmmmm.\n"
     ]
    }
   ],
   "metadata": {}
  },
  {
   "cell_type": "code",
   "execution_count": 15,
   "source": [
    "# 60\n",
    "print(('*' * 3) + \"YES\" + ('*' * 3))"
   ],
   "outputs": [
    {
     "output_type": "stream",
     "name": "stdout",
     "text": [
      "***YES***\n"
     ]
    }
   ],
   "metadata": {}
  },
  {
   "cell_type": "code",
   "execution_count": 16,
   "source": [
    "# 61\n",
    "print('a' + (\" \" * 5) + 'b')"
   ],
   "outputs": [
    {
     "output_type": "stream",
     "name": "stdout",
     "text": [
      "a     b\n"
     ]
    }
   ],
   "metadata": {}
  },
  {
   "cell_type": "code",
   "execution_count": 17,
   "source": [
    "# 62\n",
    "print(\"spam\" * 4)"
   ],
   "outputs": [
    {
     "output_type": "stream",
     "name": "stdout",
     "text": [
      "spamspamspamspam\n"
     ]
    }
   ],
   "metadata": {}
  },
  {
   "cell_type": "code",
   "execution_count": 19,
   "source": [
    "# 63\n",
    "s = \"trombones\"\n",
    "n = 76\n",
    "print(n, s)"
   ],
   "outputs": [
    {
     "output_type": "stream",
     "name": "stdout",
     "text": [
      "76 trombones\n"
     ]
    }
   ],
   "metadata": {}
  },
  {
   "cell_type": "code",
   "execution_count": 21,
   "source": [
    "# 64\n",
    "str1 = \"5\"\n",
    "num = 0.5 + int(str1)\n",
    "print(num)"
   ],
   "outputs": [
    {
     "output_type": "stream",
     "name": "stdout",
     "text": [
      "5.5\n"
     ]
    }
   ],
   "metadata": {}
  },
  {
   "cell_type": "code",
   "execution_count": 22,
   "source": [
    "# 65\n",
    "num = input(\"Enter an integer: \")\n",
    "print('1' + str(num))"
   ],
   "outputs": [
    {
     "output_type": "stream",
     "name": "stdout",
     "text": [
      "17\n"
     ]
    }
   ],
   "metadata": {}
  },
  {
   "cell_type": "code",
   "execution_count": 23,
   "source": [
    "# 66\n",
    "num = int(input(\"Enter an integer: \"))\n",
    "print(1 + num)"
   ],
   "outputs": [
    {
     "output_type": "stream",
     "name": "stdout",
     "text": [
      "8\n"
     ]
    }
   ],
   "metadata": {}
  },
  {
   "cell_type": "code",
   "execution_count": 24,
   "source": [
    "# 67\n",
    "num = float(input(\"Enter a number: \"))\n",
    "print(1 + num)"
   ],
   "outputs": [
    {
     "output_type": "stream",
     "name": "stdout",
     "text": [
      "8.0\n"
     ]
    }
   ],
   "metadata": {}
  },
  {
   "cell_type": "code",
   "execution_count": 25,
   "source": [
    "# 68\n",
    "num = eval(input(\"Enter a number: \"))\n",
    "print(1 + num)"
   ],
   "outputs": [
    {
     "output_type": "stream",
     "name": "stdout",
     "text": [
      "8\n"
     ]
    }
   ],
   "metadata": {}
  },
  {
   "cell_type": "code",
   "execution_count": 27,
   "source": [
    "# 69\n",
    "film = \"the great gatsby\" .title() [:10] .rstrip()\n",
    "print(film, len(film))"
   ],
   "outputs": [
    {
     "output_type": "stream",
     "name": "stdout",
     "text": [
      "The Great 9\n"
     ]
    }
   ],
   "metadata": {}
  },
  {
   "cell_type": "code",
   "execution_count": 28,
   "source": [
    "# 70\n",
    "batmanAndRobin = \"THE DYNAMIC DUO\" .lower() .title()\n",
    "print(batmanAndRobin)"
   ],
   "outputs": [
    {
     "output_type": "stream",
     "name": "stdout",
     "text": [
      "The Dynamic Duo\n"
     ]
    }
   ],
   "metadata": {}
  },
  {
   "cell_type": "code",
   "execution_count": 30,
   "source": [
    "# 71\n",
    "var = str(\"Words\")\n",
    "print(var [:-1])"
   ],
   "outputs": [
    {
     "output_type": "stream",
     "name": "stdout",
     "text": [
      "Word\n"
     ]
    }
   ],
   "metadata": {}
  },
  {
   "cell_type": "code",
   "execution_count": 31,
   "source": [
    "# 72\n",
    "var = str(\"Words\")\n",
    "print(var [1:])"
   ],
   "outputs": [
    {
     "output_type": "stream",
     "name": "stdout",
     "text": [
      "ords\n"
     ]
    }
   ],
   "metadata": {}
  },
  {
   "cell_type": "markdown",
   "source": [
    "Exercises 93 - 96, write a program having one line for each step."
   ],
   "metadata": {}
  },
  {
   "cell_type": "code",
   "execution_count": 39,
   "source": [
    "# 93 - Inventor\n",
    "firstName = \"Thomas\"\n",
    "middleName = \"Alva\"\n",
    "lastName = \"Edison\"\n",
    "yearOfBirth = 1847\n",
    "print(firstName + \" \" + middleName + \" \" + lastName + ', ' + str(yearOfBirth))"
   ],
   "outputs": [
    {
     "output_type": "stream",
     "name": "stdout",
     "text": [
      "Thomas Alva Edison, 1847\n"
     ]
    }
   ],
   "metadata": {}
  },
  {
   "cell_type": "code",
   "execution_count": 38,
   "source": [
    "# 94 - Price of Ketchup\n",
    "item = \"ketchup\"\n",
    "regularPrice = 1.80\n",
    "discount = .27\n",
    "print(str(regularPrice - discount) + \" \" + item)"
   ],
   "outputs": [
    {
     "output_type": "stream",
     "name": "stdout",
     "text": [
      "1.53 ketchup\n"
     ]
    }
   ],
   "metadata": {}
  },
  {
   "cell_type": "code",
   "execution_count": 41,
   "source": [
    "# 95 - Copyright Statement\n",
    "publisher = \"Pearson\"\n",
    "print(\"(c) \" + publisher)"
   ],
   "outputs": [
    {
     "output_type": "stream",
     "name": "stdout",
     "text": [
      "(c) Pearson\n"
     ]
    }
   ],
   "metadata": {}
  },
  {
   "cell_type": "code",
   "execution_count": 42,
   "source": [
    "# 96 - Advice\n",
    "prefix = \"Fore\"\n",
    "print(prefix + \"warned is \" + prefix + \"armed\")"
   ],
   "outputs": [
    {
     "output_type": "stream",
     "name": "stdout",
     "text": [
      "Forewarned is Forearmed\n"
     ]
    }
   ],
   "metadata": {}
  },
  {
   "cell_type": "markdown",
   "source": [
    "Exercises 97 - 112, write a program for the given statements."
   ],
   "metadata": {}
  },
  {
   "cell_type": "code",
   "execution_count": 47,
   "source": [
    "# 97 - Distance from a Storm\n",
    "seconds = float(input(\"Enter number of seconds between lightning and thunder: \"))\n",
    "miles = seconds / 5\n",
    "miles = round(miles, 2)\n",
    "\n",
    "print(\"Distance from storm: \", miles,  \" miles\")"
   ],
   "outputs": [
    {
     "output_type": "stream",
     "name": "stdout",
     "text": [
      "Distance from storm:  0.25  miles\n"
     ]
    }
   ],
   "metadata": {}
  },
  {
   "cell_type": "code",
   "execution_count": 48,
   "source": [
    "# 98 - Training Heart Rate\n",
    "a = int(input(\"Enter your age: \"))\n",
    "r = int(input(\"Enter your resting heart rate: \"))\n",
    "heartRate = (.7 * (220 - a)) + (.3 * r)\n",
    "\n",
    "print(\"Training hear rate: \", heartRate, \" beats/min.\")"
   ],
   "outputs": [
    {
     "output_type": "stream",
     "name": "stdout",
     "text": [
      "Training hear rate:  161.0  beats/min.\n"
     ]
    }
   ],
   "metadata": {}
  },
  {
   "cell_type": "code",
   "execution_count": 49,
   "source": [
    "# 99 - Triathlon\n",
    "cycling = int(input(\"Enter number of hours cycling: \"))\n",
    "running = int(input(\"Enter number of hours running: \"))\n",
    "swimming = int(input(\"Enter number of hours swimming: \"))\n",
    "caloriesCycling = 200\n",
    "caloriesRunning = 475\n",
    "caloriesSwimming = 275\n",
    "caloriesPerPound = 3500\n",
    "caloriesBurned = ((cycling * caloriesCycling) + (running * caloriesRunning) + (swimming * caloriesSwimming)) / caloriesPerPound\n",
    "\n",
    "print(\"Weight loss: \", caloriesBurned, \" pounds\")"
   ],
   "outputs": [
    {
     "output_type": "stream",
     "name": "stdout",
     "text": [
      "Weight loss:  0.6  pounds\n"
     ]
    }
   ],
   "metadata": {}
  },
  {
   "cell_type": "code",
   "execution_count": 59,
   "source": [
    "# 100 - Cost of Electricity\n",
    "wattage = int(input(\"Enter wattage: \"))\n",
    "hours = int(input(\"Enter number of hours used: \"))\n",
    "kWh = float(input(\"Enter price per kWh in cents: \"))\n",
    "costOfElectricity = round((wattage * hours) / (1000 * kWh), 2)\n",
    "\n",
    "print(\"Cost of electricity: $\" + str(costOfElectricity))"
   ],
   "outputs": [
    {
     "output_type": "stream",
     "name": "stdout",
     "text": [
      "Cost of electricity: $6.12\n"
     ]
    }
   ],
   "metadata": {}
  },
  {
   "cell_type": "code",
   "execution_count": 58,
   "source": [
    "# 101 - Baseball\n",
    "name = str(input(\"Enter name of team: \"))\n",
    "won = int(input(\"Enter number of games won: \"))\n",
    "lost = int(input(\"Enter number of games lost: \"))\n",
    "percent = round((won / (won + lost)) * 100, 1)\n",
    "\n",
    "print(name + \" won \" + str(percent) + \"% of their games.\")"
   ],
   "outputs": [
    {
     "output_type": "stream",
     "name": "stdout",
     "text": [
      "Yankees won 51.9% of their games.\n"
     ]
    }
   ],
   "metadata": {}
  },
  {
   "cell_type": "code",
   "execution_count": 61,
   "source": [
    "# 102 - Price-to-Earnings Ratio\n",
    "earnings = float(input(\"Enter earnings per share: \"))\n",
    "price = float(input(\"Enter price per share: \"))\n",
    "ratio = price / earnings\n",
    "\n",
    "print(\"Price-to-Earnings ratio: \", ratio)"
   ],
   "outputs": [
    {
     "output_type": "stream",
     "name": "stdout",
     "text": [
      "Price-to-Earnings ratio:  13.0\n"
     ]
    }
   ],
   "metadata": {}
  },
  {
   "cell_type": "code",
   "execution_count": 65,
   "source": [
    "# 103 - Car Speed\n",
    "skid = int(input(\"Enter distance skidded: \"))\n",
    "speed = round((24 * skid) ** .5, 1)\n",
    "\n",
    "print(\"Estimated speed: \" + str(speed) + \" miles per hour\")"
   ],
   "outputs": [
    {
     "output_type": "stream",
     "name": "stdout",
     "text": [
      "Estimated speed: 36.0 miles per hour\n"
     ]
    }
   ],
   "metadata": {}
  },
  {
   "cell_type": "code",
   "execution_count": 68,
   "source": [
    "# 104 - Percentages\n",
    "percent = (input(\"Enter percentage: \") [:-1])\n",
    "percent = int(percent)\n",
    "decimal = percent / 100\n",
    "\n",
    "print(\"Equivalent decimal: \", decimal)"
   ],
   "outputs": [
    {
     "output_type": "stream",
     "name": "stdout",
     "text": [
      "Equivalent decimal:  1.25\n"
     ]
    }
   ],
   "metadata": {}
  },
  {
   "cell_type": "code",
   "execution_count": 69,
   "source": [
    "# 105 - Convert Speeds\n",
    "kph = float(input(\"Enter speed in KPH: \"))\n",
    "miles = round(kph * .6214, 2)\n",
    "\n",
    "print(\"Speed in MPH: \", miles)"
   ],
   "outputs": [
    {
     "output_type": "stream",
     "name": "stdout",
     "text": [
      "Speed in MPH:  15.04\n"
     ]
    }
   ],
   "metadata": {}
  },
  {
   "cell_type": "code",
   "execution_count": 71,
   "source": [
    "# 106 - Server's Tip\n",
    "bill = float(input(\"Enter amount of bill: \"))\n",
    "percentage = float(input(\"Enter percentage tip: \"))\n",
    "percentage = percentage / 100\n",
    "tip = round(bill * percentage, 2)\n",
    "\n",
    "print(\"Tip: $\" + str(tip))"
   ],
   "outputs": [
    {
     "output_type": "stream",
     "name": "stdout",
     "text": [
      "Tip: $3.87\n"
     ]
    }
   ],
   "metadata": {}
  },
  {
   "cell_type": "code",
   "execution_count": 72,
   "source": [
    "# 107 - Equivalent Interest Rates\n",
    "taxBracket = float(input(\"Enter tax bracket (as decimal): \"))\n",
    "municipal = float(input(\"Enter municipal bond interest rate (as %): \"))\n",
    "cd = round(municipal / (1 - taxBracket), 3)\n",
    "\n",
    "print(\"Equivalent CD interest rate: \" + str(cd) + \"%\")"
   ],
   "outputs": [
    {
     "output_type": "stream",
     "name": "stdout",
     "text": [
      "Equivalent CD interest rate: 5.175%\n"
     ]
    }
   ],
   "metadata": {}
  },
  {
   "cell_type": "code",
   "execution_count": 78,
   "source": [
    "# 108 - Marketing Terms\n",
    "purchase = int(input(\"Enter purchase price: \"))\n",
    "sell = int(input(\"Enter selling price: \"))\n",
    "markup = sell - purchase\n",
    "percentage = (markup / purchase) * 100\n",
    "profit = round((markup / sell) * 100, 2)\n",
    "\n",
    "print(\"Markup: $\" + str(markup))\n",
    "print(\"Percentage markup: \" + str(percentage) + \"%\")\n",
    "print(\"Profit margin: \" + str(profit) + \"%\")"
   ],
   "outputs": [
    {
     "output_type": "stream",
     "name": "stdout",
     "text": [
      "Markup: $430\n",
      "Percentage markup: 200.0%\n",
      "Profit margin: 66.67%\n"
     ]
    }
   ],
   "metadata": {}
  },
  {
   "cell_type": "code",
   "execution_count": 81,
   "source": [
    "# 109 - Analyze a Number\n",
    "num = input(\"Enter number: \")\n",
    "dec = num.find('.')\n",
    "\n",
    "print(dec, \"digits to left of decimal point\")\n",
    "print(len(num) - dec - 1, \"digits to right of decimal point\")"
   ],
   "outputs": [
    {
     "output_type": "stream",
     "name": "stdout",
     "text": [
      "3 digits to left of decimal point\n",
      "5 digits to right of decimal point\n"
     ]
    }
   ],
   "metadata": {}
  },
  {
   "cell_type": "code",
   "execution_count": 85,
   "source": [
    "# 110 - Word Replacement\n",
    "sentence = input(\"Enter a sentence: \")\n",
    "wordReplace = input(\"Enter word to replace: \")\n",
    "replaceWord = input(\"Enter replacement word: \")\n",
    "spot1 = sentence.find(wordReplace)\n",
    "len1 = len(wordReplace)\n",
    "sentence = (sentence [:spot1] + replaceWord + sentence [spot1 + len1:])\n",
    "\n",
    "print(sentence)"
   ],
   "outputs": [
    {
     "output_type": "stream",
     "name": "stdout",
     "text": [
      "What you don't owe won't hurt you.\n"
     ]
    }
   ],
   "metadata": {}
  },
  {
   "cell_type": "code",
   "execution_count": 88,
   "source": [
    "# 111 - Convert Months\n",
    "months = int(input(\"Enter number of months: \"))\n",
    "years = months // 12\n",
    "remMonths = months % years\n",
    "\n",
    "print(str(months) + \" months is \" + str(years) + \" years and \" + str(remMonths) + \" months.\")"
   ],
   "outputs": [
    {
     "output_type": "stream",
     "name": "stdout",
     "text": [
      "234 months is 19 years and 6 months.\n"
     ]
    }
   ],
   "metadata": {}
  },
  {
   "cell_type": "code",
   "execution_count": 89,
   "source": [
    "# 112\n",
    "inches = int(input(\"Enter number of inches: \"))\n",
    "feet = inches // 12\n",
    "remInches = inches % feet\n",
    "\n",
    "print(str(inches) + \" inches is \" + str(feet) + \" feet and \" + str(remInches) + \" inches.\")"
   ],
   "outputs": [
    {
     "output_type": "stream",
     "name": "stdout",
     "text": [
      "185 inches is 15 feet and 5 inches.\n"
     ]
    }
   ],
   "metadata": {}
  }
 ],
 "metadata": {
  "orig_nbformat": 4,
  "language_info": {
   "name": "python",
   "version": "3.8.8",
   "mimetype": "text/x-python",
   "codemirror_mode": {
    "name": "ipython",
    "version": 3
   },
   "pygments_lexer": "ipython3",
   "nbconvert_exporter": "python",
   "file_extension": ".py"
  },
  "kernelspec": {
   "name": "python3",
   "display_name": "Python 3.8.8 64-bit ('base': conda)"
  },
  "interpreter": {
   "hash": "dca0ade3e726a953b501b15e8e990130d2b7799f14cfd9f4271676035ebe5511"
  }
 },
 "nbformat": 4,
 "nbformat_minor": 2
}