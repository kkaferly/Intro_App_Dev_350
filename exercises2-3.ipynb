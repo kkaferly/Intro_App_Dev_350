{
 "cells": [
  {
   "cell_type": "markdown",
   "source": [
    "Exercises 1 - 50, determine the output displayed by the lines of code."
   ],
   "metadata": {}
  },
  {
   "cell_type": "code",
   "execution_count": 1,
   "source": [
    "# 1\n",
    "print(\"Bon\", \" Voyage\", '!', sep=\"\")"
   ],
   "outputs": [
    {
     "output_type": "stream",
     "name": "stdout",
     "text": [
      "Bon Voyage!\n"
     ]
    }
   ],
   "metadata": {}
  },
  {
   "cell_type": "code",
   "execution_count": 2,
   "source": [
    "# 2\n",
    "print(\"Price: \", '$', 23.45, sep=\"\")"
   ],
   "outputs": [
    {
     "output_type": "stream",
     "name": "stdout",
     "text": [
      "Price: $23.45\n"
     ]
    }
   ],
   "metadata": {}
  },
  {
   "cell_type": "code",
   "execution_count": 3,
   "source": [
    "# 3\n",
    "print(\"Portion: \", 90, '%', sep=\"\")"
   ],
   "outputs": [
    {
     "output_type": "stream",
     "name": "stdout",
     "text": [
      "Portion: 90%\n"
     ]
    }
   ],
   "metadata": {}
  },
  {
   "cell_type": "code",
   "execution_count": 4,
   "source": [
    "# 4\n",
    "print(\"Py\", \"th\", \"on\", sep=\"\")"
   ],
   "outputs": [
    {
     "output_type": "stream",
     "name": "stdout",
     "text": [
      "Python\n"
     ]
    }
   ],
   "metadata": {}
  },
  {
   "cell_type": "code",
   "execution_count": 5,
   "source": [
    "# 5\n",
    "print(1, 2, 3, sep=\" x \")"
   ],
   "outputs": [
    {
     "output_type": "stream",
     "name": "stdout",
     "text": [
      "1 x 2 x 3\n"
     ]
    }
   ],
   "metadata": {}
  },
  {
   "cell_type": "code",
   "execution_count": 6,
   "source": [
    "# 6\n",
    "print(\"tic\", \"tac\", \"toe\", sep='-')"
   ],
   "outputs": [
    {
     "output_type": "stream",
     "name": "stdout",
     "text": [
      "tic-tac-toe\n"
     ]
    }
   ],
   "metadata": {}
  },
  {
   "cell_type": "code",
   "execution_count": 7,
   "source": [
    "# 7\n",
    "print(\"father\", \"in\", \"law\", sep='-')"
   ],
   "outputs": [
    {
     "output_type": "stream",
     "name": "stdout",
     "text": [
      "father-in-law\n"
     ]
    }
   ],
   "metadata": {}
  },
  {
   "cell_type": "code",
   "execution_count": 8,
   "source": [
    "# 8\n",
    "print(\"one\", \" two\", \" three\", sep=',')"
   ],
   "outputs": [
    {
     "output_type": "stream",
     "name": "stdout",
     "text": [
      "one, two, three\n"
     ]
    }
   ],
   "metadata": {}
  },
  {
   "cell_type": "code",
   "execution_count": 9,
   "source": [
    "# 9\n",
    "print('T', end='-')\n",
    "print(\"thon\")"
   ],
   "outputs": [
    {
     "output_type": "stream",
     "name": "stdout",
     "text": [
      "T-thon\n"
     ]
    }
   ],
   "metadata": {}
  },
  {
   "cell_type": "code",
   "execution_count": 10,
   "source": [
    "# 10\n",
    "print(\"spam\", end=\" and \")\n",
    "print(\"eggs\")"
   ],
   "outputs": [
    {
     "output_type": "stream",
     "name": "stdout",
     "text": [
      "spam and eggs\n"
     ]
    }
   ],
   "metadata": {}
  },
  {
   "cell_type": "code",
   "execution_count": 11,
   "source": [
    "# 11\n",
    "print(\"Py\", end=\"\")\n",
    "print(\"thon\")"
   ],
   "outputs": [
    {
     "output_type": "stream",
     "name": "stdout",
     "text": [
      "Python\n"
     ]
    }
   ],
   "metadata": {}
  },
  {
   "cell_type": "code",
   "execution_count": 13,
   "source": [
    "# 12\n",
    "print(\"on\", \"site\", sep='-', end=\" \")\n",
    "print(\"repair\")"
   ],
   "outputs": [
    {
     "output_type": "stream",
     "name": "stdout",
     "text": [
      "on-site repair\n"
     ]
    }
   ],
   "metadata": {}
  },
  {
   "cell_type": "code",
   "execution_count": 14,
   "source": [
    "# 13\n",
    "print(\"Hello\\n\")\n",
    "print(\"World!\")"
   ],
   "outputs": [
    {
     "output_type": "stream",
     "name": "stdout",
     "text": [
      "Hello\n",
      "\n",
      "World!\n"
     ]
    }
   ],
   "metadata": {}
  },
  {
   "cell_type": "code",
   "execution_count": 15,
   "source": [
    "# 14\n",
    "print(\"Hello\\n\", end=\"\")\n",
    "print(\"World!\")"
   ],
   "outputs": [
    {
     "output_type": "stream",
     "name": "stdout",
     "text": [
      "Hello\n",
      "World!\n"
     ]
    }
   ],
   "metadata": {}
  },
  {
   "cell_type": "code",
   "execution_count": 16,
   "source": [
    "# 15\n",
    "print(\"One\\tTwo\\nThree\\tFour\")"
   ],
   "outputs": [
    {
     "output_type": "stream",
     "name": "stdout",
     "text": [
      "One\tTwo\n",
      "Three\tFour\n"
     ]
    }
   ],
   "metadata": {}
  },
  {
   "cell_type": "code",
   "execution_count": 17,
   "source": [
    "# 16\n",
    "print(\"1\\t2\\t3\")\n",
    "print(\"Detroit\\tLions\")\n",
    "print(\"Indianapolis\\tColts\")"
   ],
   "outputs": [
    {
     "output_type": "stream",
     "name": "stdout",
     "text": [
      "1\t2\t3\n",
      "Detroit\tLions\n",
      "Indianapolis\tColts\n"
     ]
    }
   ],
   "metadata": {}
  },
  {
   "cell_type": "code",
   "execution_count": 18,
   "source": [
    "# 17\n",
    "print(\"NUMBER\\tSQUARE\")\n",
    "print(str(2) + \"\\t\" + str(2 ** 2))\n",
    "print(str(3) + \"\\t\" + str(3 ** 2))"
   ],
   "outputs": [
    {
     "output_type": "stream",
     "name": "stdout",
     "text": [
      "NUMBER\tSQUARE\n",
      "2\t4\n",
      "3\t9\n"
     ]
    }
   ],
   "metadata": {}
  },
  {
   "cell_type": "code",
   "execution_count": 19,
   "source": [
    "# 18\n",
    "print(\"COUNTRY\\t\", \"LAND AREA\")\n",
    "print(\"India\\t\", 2.5, \"million sq km\")\n",
    "print(\"China\\t\", 9.6, \"million sq km\")"
   ],
   "outputs": [
    {
     "output_type": "stream",
     "name": "stdout",
     "text": [
      "COUNTRY\t LAND AREA\n",
      "India\t 2.5 million sq km\n",
      "China\t 9.6 million sq km\n"
     ]
    }
   ],
   "metadata": {}
  },
  {
   "cell_type": "code",
   "execution_count": 20,
   "source": [
    "# 19\n",
    "print(\"Hello\\t\\tWorld!\")\n",
    "print(\"Hello\\tWorld!\".expandtabs(16))"
   ],
   "outputs": [
    {
     "output_type": "stream",
     "name": "stdout",
     "text": [
      "Hello\t\tWorld!\n",
      "Hello           World!\n"
     ]
    }
   ],
   "metadata": {}
  },
  {
   "cell_type": "code",
   "execution_count": 22,
   "source": [
    "# 20\n",
    "print(\"STATE\\tCAPITAL\".expandtabs(15))\n",
    "print(\"North Dakota\\tBismarck\".expandtabs(15))\n",
    "print(\"South Dakota\\tPierre\".expandtabs(15))"
   ],
   "outputs": [
    {
     "output_type": "stream",
     "name": "stdout",
     "text": [
      "STATE          CAPITAL\n",
      "North Dakota   Bismarck\n",
      "South Dakota   Pierre\n"
     ]
    }
   ],
   "metadata": {}
  },
  {
   "cell_type": "code",
   "execution_count": 23,
   "source": [
    "# 21\n",
    "print(\"01234567890\")\n",
    "print(\"A\".rjust(5), \"B\".center(5), \"C\".ljust(5), sep=\"\")"
   ],
   "outputs": [
    {
     "output_type": "stream",
     "name": "stdout",
     "text": [
      "01234567890\n",
      "    A  B  C    \n"
     ]
    }
   ],
   "metadata": {}
  },
  {
   "cell_type": "code",
   "execution_count": 26,
   "source": [
    "# 22\n",
    "print(\"0123456789012345\")\n",
    "print(\"one\".center(7), \"two\".ljust(4), \"three\".rjust(6), sep=\"\")"
   ],
   "outputs": [
    {
     "output_type": "stream",
     "name": "stdout",
     "text": [
      "0123456789012345\n",
      "  one  two  three\n"
     ]
    }
   ],
   "metadata": {}
  },
  {
   "cell_type": "code",
   "execution_count": 27,
   "source": [
    "# 23\n",
    "print(\"01234567890123456\")\n",
    "print(\"{0:^7s}{1:4s}{2:5s}\".format(\"one\", \"two\", \"three\"))"
   ],
   "outputs": [
    {
     "output_type": "stream",
     "name": "stdout",
     "text": [
      "01234567890123456\n",
      "  one  two three\n"
     ]
    }
   ],
   "metadata": {}
  },
  {
   "cell_type": "code",
   "execution_count": 29,
   "source": [
    "# 24\n",
    "print(\"01234567890\")\n",
    "print(\"{0:>5s}{1:^5s}{2:5s}\".format(\"A\", \"B\", \"C\"))"
   ],
   "outputs": [
    {
     "output_type": "stream",
     "name": "stdout",
     "text": [
      "01234567890\n",
      "    A  B  C    \n"
     ]
    }
   ],
   "metadata": {}
  },
  {
   "cell_type": "code",
   "execution_count": 31,
   "source": [
    "# 25\n",
    "print(\"0123456789\")\n",
    "print(\"{0:10.2%}\".format(.123))\n",
    "print(\"{0:^10.1%}\".format(1.23))\n",
    "print(\"{0:<10,.2%}\".format(12.3))"
   ],
   "outputs": [
    {
     "output_type": "stream",
     "name": "stdout",
     "text": [
      "0123456789\n",
      "    12.30%\n",
      "  123.0%  \n",
      "1,230.00% \n"
     ]
    }
   ],
   "metadata": {}
  },
  {
   "cell_type": "code",
   "execution_count": 32,
   "source": [
    "# 26\n",
    "print(\"0123456789\")\n",
    "print(\"{0:10,d}\".format(1234))\n",
    "print(\"{0:^10,d}\".format(1234))\n",
    "print(\"{0:<10,d}\".format(1234))"
   ],
   "outputs": [
    {
     "output_type": "stream",
     "name": "stdout",
     "text": [
      "0123456789\n",
      "     1,234\n",
      "  1,234   \n",
      "1,234     \n"
     ]
    }
   ],
   "metadata": {}
  },
  {
   "cell_type": "code",
   "execution_count": 33,
   "source": [
    "# 27\n",
    "print(\"${0:,.2f}\".format(1234.567))"
   ],
   "outputs": [
    {
     "output_type": "stream",
     "name": "stdout",
     "text": [
      "$1,234.57\n"
     ]
    }
   ],
   "metadata": {}
  },
  {
   "cell_type": "code",
   "execution_count": 34,
   "source": [
    "# 28\n",
    "print(\"${0:,.0f}\".format(1234.567))"
   ],
   "outputs": [
    {
     "output_type": "stream",
     "name": "stdout",
     "text": [
      "$1,235\n"
     ]
    }
   ],
   "metadata": {}
  },
  {
   "cell_type": "code",
   "execution_count": 35,
   "source": [
    "# 29\n",
    "print(\"{0:,.0f}\".format(1.234))"
   ],
   "outputs": [
    {
     "output_type": "stream",
     "name": "stdout",
     "text": [
      "1\n"
     ]
    }
   ],
   "metadata": {}
  },
  {
   "cell_type": "code",
   "execution_count": 36,
   "source": [
    "# 30\n",
    "print(\"${0:,.2f}\".format(1234))"
   ],
   "outputs": [
    {
     "output_type": "stream",
     "name": "stdout",
     "text": [
      "$1,234.00\n"
     ]
    }
   ],
   "metadata": {}
  },
  {
   "cell_type": "code",
   "execution_count": 42,
   "source": [
    "# 31\n",
    "print(\"{0:10s}{1:^16s}{2:s}\".format(\"Language\", \"Native speakers\", \"% of World Pop.\"))\n",
    "print(\"{0:10s}{1:^16,d}{2:10.2%}\".format(\"Mandarin\", 935000000,.141))\n",
    "print(\"{0:10s}{1:^16,d}{2:10.2%}\".format(\"Spanish\", 387000000, .0585))\n",
    "print(\"{0:10s}{1:^16,d}{2:10.2%}\".format(\"English\", 365000000, .0552))"
   ],
   "outputs": [
    {
     "output_type": "stream",
     "name": "stdout",
     "text": [
      "Language  Native speakers % of World Pop.\n",
      "Mandarin    935,000,000       14.10%\n",
      "Spanish     387,000,000        5.85%\n",
      "English     365,000,000        5.52%\n"
     ]
    }
   ],
   "metadata": {}
  },
  {
   "cell_type": "code",
   "execution_count": 45,
   "source": [
    "# 32\n",
    "print(\"{0:14s}{1:s}\".format(\"Major\", \"Percent of Students\"))\n",
    "print(\"{0:14s}{1:^10.1%}\".format(\"Biology\", .062))\n",
    "print(\"{0:14s}{1:^10.1%}\".format(\"Psychology\", .054))\n",
    "print(\"{0:14s}{1:^10.1%}\".format(\"Nursing\", .047))"
   ],
   "outputs": [
    {
     "output_type": "stream",
     "name": "stdout",
     "text": [
      "Major         Percent of Students\n",
      "Biology          6.2%   \n",
      "Psychology       5.4%   \n",
      "Nursing          4.7%   \n"
     ]
    }
   ],
   "metadata": {}
  },
  {
   "cell_type": "code",
   "execution_count": 46,
   "source": [
    "# 33\n",
    "print(\"Be {0:s} - {1:s} else is taken.\".format(\"yourself\", \"everyone\"))"
   ],
   "outputs": [
    {
     "output_type": "stream",
     "name": "stdout",
     "text": [
      "Be yourself - everyone else is taken.\n"
     ]
    }
   ],
   "metadata": {}
  },
  {
   "cell_type": "code",
   "execution_count": 47,
   "source": [
    "# 34\n",
    "print(\"Plan {0:s}, code {1:s}.\".format(\"first\", \"later\"))"
   ],
   "outputs": [
    {
     "output_type": "stream",
     "name": "stdout",
     "text": [
      "Plan first, code later.\n"
     ]
    }
   ],
   "metadata": {}
  },
  {
   "cell_type": "code",
   "execution_count": 49,
   "source": [
    "# 35\n",
    "print(\"Always {0:s} on the bright side of {1:s}.\".format(\"look\", \"life\"))"
   ],
   "outputs": [
    {
     "output_type": "stream",
     "name": "stdout",
     "text": [
      "Always look on the bright side of life.\n"
     ]
    }
   ],
   "metadata": {}
  },
  {
   "cell_type": "code",
   "execution_count": 50,
   "source": [
    "# 36\n",
    "print(\"And now for {0:s} completely {1:s}.\".format(\"something\", \"different\"))"
   ],
   "outputs": [
    {
     "output_type": "stream",
     "name": "stdout",
     "text": [
      "And now for something completely different.\n"
     ]
    }
   ],
   "metadata": {}
  },
  {
   "cell_type": "code",
   "execution_count": 52,
   "source": [
    "# 37\n",
    "x = 3\n",
    "y = 4\n",
    "print(\"The product of {0:d} and {1:d} is {2:d}.\".format(x, y, x * y))"
   ],
   "outputs": [
    {
     "output_type": "stream",
     "name": "stdout",
     "text": [
      "The product of 3 and 4 is 12.\n"
     ]
    }
   ],
   "metadata": {}
  },
  {
   "cell_type": "code",
   "execution_count": 55,
   "source": [
    "# 38\n",
    "str1 = \"The chances of winning the {0:s} are 1 in {1:,d}.\"\n",
    "print(str1.format(\"Powerball Lottery\", 175223510))"
   ],
   "outputs": [
    {
     "output_type": "stream",
     "name": "stdout",
     "text": [
      "The chances of winning the Powerball Lottery are 1 in 175,223,510.\n"
     ]
    }
   ],
   "metadata": {}
  },
  {
   "cell_type": "code",
   "execution_count": 56,
   "source": [
    "# 39\n",
    "x = 2\n",
    "print(\"The square root of {0:n} is about {1:.4f}.\".format(x, x ** .5))"
   ],
   "outputs": [
    {
     "output_type": "stream",
     "name": "stdout",
     "text": [
      "The square root of 2 is about 1.4142.\n"
     ]
    }
   ],
   "metadata": {}
  },
  {
   "cell_type": "code",
   "execution_count": 57,
   "source": [
    "# 40\n",
    "pi = 3.14159265898\n",
    "print(\"pi is approximately {0:.5f}.\".format(pi))"
   ],
   "outputs": [
    {
     "output_type": "stream",
     "name": "stdout",
     "text": [
      "pi is approximately 3.14159.\n"
     ]
    }
   ],
   "metadata": {}
  },
  {
   "cell_type": "code",
   "execution_count": 58,
   "source": [
    "# 41\n",
    "str1 = \"In a randomly selected group of {0:d} people, the \" + \\\n",
    "    \"probability\\nis {1:.2f} that 2 people have the same birthday.\"\n",
    "print(str1.format(23, .507397))"
   ],
   "outputs": [
    {
     "output_type": "stream",
     "name": "stdout",
     "text": [
      "In a randomly selected group of 23 people, the probability\n",
      "is 0.51 that 2 people have the same birthday.\n"
     ]
    }
   ],
   "metadata": {}
  },
  {
   "cell_type": "code",
   "execution_count": 59,
   "source": [
    "# 42\n",
    "areaOfAlaska = 663267\n",
    "costOfAlaska = 7200000\n",
    "str1 = \"The cost of Alaska was about ${0:.2f} per square mile.\"\n",
    "print(str1.format(costOfAlaska / areaOfAlaska))"
   ],
   "outputs": [
    {
     "output_type": "stream",
     "name": "stdout",
     "text": [
      "The cost of Alaska was about $10.86 per square mile.\n"
     ]
    }
   ],
   "metadata": {}
  },
  {
   "cell_type": "code",
   "execution_count": 62,
   "source": [
    "# 43\n",
    "str1 = \"You miss {0:.0%} of the shots you never take. Wayne Gretsky\"\n",
    "print(str1.format(1))"
   ],
   "outputs": [
    {
     "output_type": "stream",
     "name": "stdout",
     "text": [
      "You miss 100% of the shots you never take. Wayne Gretsky\n"
     ]
    }
   ],
   "metadata": {}
  },
  {
   "cell_type": "code",
   "execution_count": 63,
   "source": [
    "# 44\n",
    "str1 = \"{0:.0%} of the members of the U.S. Senate are from {1:s}.\"\n",
    "print(str1.format(12 / 100, \"New England\"))"
   ],
   "outputs": [
    {
     "output_type": "stream",
     "name": "stdout",
     "text": [
      "12% of the members of the U.S. Senate are from New England.\n"
     ]
    }
   ],
   "metadata": {}
  },
  {
   "cell_type": "code",
   "execution_count": 66,
   "source": [
    "# 45\n",
    "print(\"{0:.2%} of the UN nations are in {1:s}.\".format(43 / 193, \"Europe\"))"
   ],
   "outputs": [
    {
     "output_type": "stream",
     "name": "stdout",
     "text": [
      "22.28% of the UN nations are in Europe.\n"
     ]
    }
   ],
   "metadata": {}
  },
  {
   "cell_type": "code",
   "execution_count": 67,
   "source": [
    "# 46\n",
    "str1 = \"The area of {0:s} is {1:.1%} of the area of the U.S.\"\n",
    "print(str1.format(\"Alaska\", 663267 / 3794000))"
   ],
   "outputs": [
    {
     "output_type": "stream",
     "name": "stdout",
     "text": [
      "The area of Alaska is 17.5% of the area of the U.S.\n"
     ]
    }
   ],
   "metadata": {}
  },
  {
   "cell_type": "code",
   "execution_count": 68,
   "source": [
    "# 47\n",
    "print(\"{0:s}{1:s}{0:s}\".format(\"abra\", \"cad\"))"
   ],
   "outputs": [
    {
     "output_type": "stream",
     "name": "stdout",
     "text": [
      "abracadabra\n"
     ]
    }
   ],
   "metadata": {}
  },
  {
   "cell_type": "code",
   "execution_count": 69,
   "source": [
    "# 48\n",
    "print(\"When you have {0:s} to {1:s}, {1:s} {0:s}.\".format(\"nothing\", \"say\"))"
   ],
   "outputs": [
    {
     "output_type": "stream",
     "name": "stdout",
     "text": [
      "When you have nothing to say, say nothing.\n"
     ]
    }
   ],
   "metadata": {}
  },
  {
   "cell_type": "code",
   "execution_count": 71,
   "source": [
    "# 49\n",
    "str1 = \"If {0:s} whenever {1:s}. It is always {1:s}. - Dalai Lama\"\n",
    "print(str1.format(\"kind\", \"possible\"))"
   ],
   "outputs": [
    {
     "output_type": "stream",
     "name": "stdout",
     "text": [
      "If kind whenever possible. It is always possible. - Dalai Lama\n"
     ]
    }
   ],
   "metadata": {}
  },
  {
   "cell_type": "code",
   "execution_count": 72,
   "source": [
    "# 50\n",
    "str1 = \"If {0:s} dream it, {0:s} do it. - Walt Disney\"\n",
    "print(str1.format(\"you can\"))"
   ],
   "outputs": [
    {
     "output_type": "stream",
     "name": "stdout",
     "text": [
      "If you can dream it, you can do it. - Walt Disney\n"
     ]
    }
   ],
   "metadata": {}
  },
  {
   "cell_type": "markdown",
   "source": [
    "Exercises 53 - 58, write a program to carry out the stated task."
   ],
   "metadata": {}
  },
  {
   "cell_type": "code",
   "execution_count": 74,
   "source": [
    "# 53 - Server's Tip\n",
    "bill = float(input(\"Enter amount of bill: \"))\n",
    "percentage = int(input(\"Enter percentage of tip: \"))\n",
    "tip = (bill * percentage) /100\n",
    "\n",
    "print(\"Tip: ${0:.2f}\".format(tip))"
   ],
   "outputs": [
    {
     "output_type": "stream",
     "name": "stdout",
     "text": [
      "Tip: $3.87\n"
     ]
    }
   ],
   "metadata": {}
  },
  {
   "cell_type": "code",
   "execution_count": 78,
   "source": [
    "# 54 - Income\n",
    "revenue = int(input(\"Enter revenue: \"))\n",
    "expenses = int(input(\"Enter expenses: \"))\n",
    "income = revenue - expenses\n",
    "\n",
    "print(\"Net Income: ${0:,.2f}\".format(income))"
   ],
   "outputs": [
    {
     "output_type": "stream",
     "name": "stdout",
     "text": [
      "Net Income: $140,000.00\n"
     ]
    }
   ],
   "metadata": {}
  },
  {
   "cell_type": "code",
   "execution_count": 85,
   "source": [
    "# 55 - Change in Salary\n",
    "begSalary = int(input(\"Enter beginning salary: \"))\n",
    "raiseSalary = 1.1 * begSalary\n",
    "lowSalary = .9 * raiseSalary\n",
    "percentChange = (lowSalary - begSalary) / begSalary\n",
    "\n",
    "print(\"New Salary: ${0:,.2f}\".format(lowSalary))\n",
    "print(\"Change: {0:.2%}\".format(percentChange))"
   ],
   "outputs": [
    {
     "output_type": "stream",
     "name": "stdout",
     "text": [
      "New Salary: $34,650.00\n",
      "Change: -1.00%\n"
     ]
    }
   ],
   "metadata": {}
  },
  {
   "cell_type": "code",
   "execution_count": 86,
   "source": [
    "# 56 - Change in Salary\n",
    "begSalary = int(input(\"Enter beginning salary: \"))\n",
    "raiseSalary = 1.05 * begSalary\n",
    "raiseSalary = 1.05 * raiseSalary\n",
    "raiseSalary = 1.05 * raiseSalary\n",
    "change = (raiseSalary - begSalary) / begSalary\n",
    "\n",
    "print(\"New salary : ${0:,.2f}\".format(raiseSalary))\n",
    "print(\"Change: {0:.2%}\".format(change))"
   ],
   "outputs": [
    {
     "output_type": "stream",
     "name": "stdout",
     "text": [
      "New salary : $40,516.88\n",
      "Change: 15.76%\n"
     ]
    }
   ],
   "metadata": {}
  },
  {
   "cell_type": "code",
   "execution_count": 89,
   "source": [
    "# 57 - Future Value\n",
    "p = int(input(\"Enter principal: \"))\n",
    "r = int(input(\"Enter interest rate (as %): \"))\n",
    "n = int(input(\"Enter number of years: \"))\n",
    "f = p * ((1 + (r / 100)) ** n)\n",
    "\n",
    "print(\"Future value : ${0:,.2f}\".format(f))"
   ],
   "outputs": [
    {
     "output_type": "stream",
     "name": "stdout",
     "text": [
      "Future value : $1,157.63\n"
     ]
    }
   ],
   "metadata": {}
  },
  {
   "cell_type": "code",
   "execution_count": 92,
   "source": [
    "# 58 - Present Value\n",
    "f = int(input(\"Enter future value: \"))\n",
    "r = int(input(\"Enter interest rate: \"))\n",
    "n = int(input(\"Enter number of years: \"))\n",
    "p = f / ((1 + ( r / 100)) ** n)\n",
    "\n",
    "print(\"Present value: ${0:,.2f}\".format(p))"
   ],
   "outputs": [
    {
     "output_type": "stream",
     "name": "stdout",
     "text": [
      "Present value: $7,903.15\n"
     ]
    }
   ],
   "metadata": {}
  }
 ],
 "metadata": {
  "orig_nbformat": 4,
  "language_info": {
   "name": "python",
   "version": "3.8.8",
   "mimetype": "text/x-python",
   "codemirror_mode": {
    "name": "ipython",
    "version": 3
   },
   "pygments_lexer": "ipython3",
   "nbconvert_exporter": "python",
   "file_extension": ".py"
  },
  "kernelspec": {
   "name": "python3",
   "display_name": "Python 3.8.8 64-bit ('base': conda)"
  },
  "interpreter": {
   "hash": "dca0ade3e726a953b501b15e8e990130d2b7799f14cfd9f4271676035ebe5511"
  }
 },
 "nbformat": 4,
 "nbformat_minor": 2
}