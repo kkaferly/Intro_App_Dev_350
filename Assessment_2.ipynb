{
 "cells": [
  {
   "cell_type": "markdown",
   "source": [
    "Make Change: A program that accepts a user defined integer. The output of the prgram shows the number of coins from each denomination used to make the change."
   ],
   "metadata": {}
  },
  {
   "cell_type": "code",
   "execution_count": 99,
   "source": [
    "# User input\n",
    "amount = int(input(\"Enter amount of change: \"))\n",
    "\n",
    "#Calculations\n",
    "quarter = amount // 25\n",
    "quarter1 = amount % 25\n",
    "dime = quarter1 // 10\n",
    "dime1 = quarter1 % 10\n",
    "nickel = dime1 // 5\n",
    "nickel1 = dime1 % 5\n",
    "penny = nickel1 // 1\n",
    "\n",
    "# Print output\n",
    "print(\"Amount of change entered: \", amount)\n",
    "print(\"Quarters: \", quarter, \"\\tDimes: \", dime)\n",
    "print(\"Nickels: \", nickel, \"\\tPennies: \", penny)"
   ],
   "outputs": [
    {
     "output_type": "stream",
     "name": "stdout",
     "text": [
      "Amount of change entered:  93\n",
      "Quarters:  3 \tDimes:  1\n",
      "Nickels:  1 \tPennies:  3\n",
      "18\n"
     ]
    }
   ],
   "metadata": {}
  },
  {
   "cell_type": "markdown",
   "source": [
    "Unit Price: A program that requests the price and weight of an item in pounds and ounces, and then determines the price per ounce."
   ],
   "metadata": {}
  },
  {
   "cell_type": "code",
   "execution_count": 31,
   "source": [
    "# User input\n",
    "price = float(input(\"Enter price of item: \"))\n",
    "print(\"Pounds and ounces to be entered seperatly.\")\n",
    "pounds = int(input(\"Enter pounds: \"))\n",
    "ounces = int(input(\"Enter ounces: \"))\n",
    "\n",
    "# Calculations\n",
    "totounces = ounces + (pounds * 16)\n",
    "perounce = float(price / totounces)\n",
    "\n",
    "# Print output\n",
    "print(\"Price per ounce: $\", perounce)"
   ],
   "outputs": [
    {
     "output_type": "stream",
     "name": "stdout",
     "text": [
      "Pounds and ounces to be entered seperatly.\n",
      "Price per ounce: $ $ 1.02\n"
     ]
    }
   ],
   "metadata": {}
  },
  {
   "cell_type": "markdown",
   "source": [
    "Stock Portfolio: Portfolio based on four ETF's. A program that requests the amount invested in each fund as input and then displays the total amount invested and each fund's percentage of the total amount invested."
   ],
   "metadata": {}
  },
  {
   "cell_type": "code",
   "execution_count": 35,
   "source": [
    "# User input\n",
    "spy = float(input(\"Enter amount invested in SPY: \"))\n",
    "qqq = float(input(\"Enter amount invested in SPY: \"))\n",
    "eem = float(input(\"Enter amount invested in SPY: \"))\n",
    "vxx = float(input(\"Enter amount invested in SPY: \"))\n",
    "\n",
    "# Calculations\n",
    "totamount = spy + qqq + eem + vxx\n",
    "perspy = (spy / totamount) * 100\n",
    "perqqq = (qqq / totamount) * 100\n",
    "pereem = (eem / totamount) * 100\n",
    "pervxx = (vxx / totamount) * 100\n",
    "\n",
    "# Print output\n",
    "print(\"ETF\\tPERCENTAGE\")\n",
    "print(\"-----------------\")\n",
    "print(\"SPY\\t\", round(perspy, 2), \"%\")\n",
    "print(\"QQQ\\t\", round(perqqq, 2), \"%\")\n",
    "print(\"EEM\\t\", round(pereem, 2), \"%\")\n",
    "print(\"VXX\\t\", round(pervxx, 2), \"%\")\n",
    "print(\"\\nTOTAL AMOUNNT INVESTED: $\", totamount)"
   ],
   "outputs": [
    {
     "output_type": "stream",
     "name": "stdout",
     "text": [
      "ETF\tPERCENTAGE\n",
      "-----------------\n",
      "SPY\t 0.25 %\n",
      "QQQ\t 0.25 %\n",
      "EEM\t 0.25 %\n",
      "VXX\t 0.25 %\n",
      "\n",
      "TOTAL AMOUNNT INVESTED: $ 20.0\n"
     ]
    }
   ],
   "metadata": {}
  },
  {
   "cell_type": "markdown",
   "source": [
    "Length Conversion: A program that accepts user input for miles, yards, feet, and inches. The program converts the U.S. Customary System lengths into Metric System lengths."
   ],
   "metadata": {}
  },
  {
   "cell_type": "code",
   "execution_count": 96,
   "source": [
    "# User input\n",
    "miles = int(input(\"Enter number of miles: \"))\n",
    "yards = int(input(\"Enter number of yards: \"))\n",
    "feet = int(input(\"Enter number of feet: \"))\n",
    "inches = int(input(\"Enter number of inches: \"))\n",
    "\n",
    "# Conversions\n",
    "coninch = (63360 * miles) + (36 * yards) + (12 * feet) + inches\n",
    "conmeter = coninch / 39.37\n",
    "\n",
    "kilometer = int(conmeter // 1000)\n",
    "meter = conmeter - (kilometer * 1000)\n",
    "roundmeter = int(meter)\n",
    "centimeter = ((conmeter - ((kilometer * 1000) + roundmeter)) * 100)\n",
    "\n",
    "# Print output\n",
    "print(\"Metric Length:\")\n",
    "print(kilometer, \"kilometers\")\n",
    "print(int(meter), \"meters\")\n",
    "print(round(centimeter,1), \"centimeters\")"
   ],
   "outputs": [
    {
     "output_type": "stream",
     "name": "stdout",
     "text": [
      "Metric Length:\n",
      "8 kilometers\n",
      "65 meters\n",
      "73.5 centimeters\n"
     ]
    }
   ],
   "metadata": {}
  }
 ],
 "metadata": {
  "orig_nbformat": 4,
  "language_info": {
   "name": "python",
   "version": "3.8.8",
   "mimetype": "text/x-python",
   "codemirror_mode": {
    "name": "ipython",
    "version": 3
   },
   "pygments_lexer": "ipython3",
   "nbconvert_exporter": "python",
   "file_extension": ".py"
  },
  "kernelspec": {
   "name": "python3",
   "display_name": "Python 3.8.8 64-bit ('base': conda)"
  },
  "interpreter": {
   "hash": "dca0ade3e726a953b501b15e8e990130d2b7799f14cfd9f4271676035ebe5511"
  }
 },
 "nbformat": 4,
 "nbformat_minor": 2
}