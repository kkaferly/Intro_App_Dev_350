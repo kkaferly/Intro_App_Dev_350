{
 "cells": [
  {
   "cell_type": "markdown",
   "source": [
    "<strong>Caffeine Absorption</strong> - After caffeine is absorbed into the body, 13% is eliminated from the body each hour. Assume a person drinks an 8-oz cup of brewed coffee containing 130mg of caffeine, and that the caffeine is absorbed immediately into the body. Write a program to calculate the following values<br>\n",
    "\n",
    "a. The number of hours required until less than 65mg remain in the body.<br>\n",
    "b. The amount of caffeine in the body 24 hours after the person drinks the coffee.<br>\n",
    "c. Suppose the person drinks a cup of coffee at 7am and then drinks a cup of coffee at the end of each hour until 7am the next day. How much caffeine will be in the body at the end of the 24 hours?"
   ],
   "metadata": {}
  },
  {
   "cell_type": "code",
   "execution_count": 18,
   "source": [
    "# 1\n",
    "# Declare variables\n",
    "caffeine = 130\n",
    "hours = 0\n",
    "halfcaf = int(caffeine / 2)\n",
    "elimination = .87\n",
    "\n",
    "# Calculation\n",
    "while caffeine > halfcaf:\n",
    "    caffeine = caffeine * elimination\n",
    "    hours += 1\n",
    "\n",
    "# Print output\n",
    "print(\"CAFFEINE VALUES\")\n",
    "print(f\"One cup: less than {halfcaf}mg will remain after {hours} hours\")\n",
    "\n",
    "# 2\n",
    "# Declare variables\n",
    "caffeine = 130\n",
    "hours = 0\n",
    "elimination = .87\n",
    "remhours = 24\n",
    "\n",
    "# Calculations\n",
    "while hours < remhours:\n",
    "    caffeine = caffeine * elimination\n",
    "    hours += 1\n",
    "\n",
    "# Print output\n",
    "print(f\"One cup: {round(caffeine, 2)}mg will remain after {hours} hours.\")\n",
    "\n",
    "# 3\n",
    "# Declare variables\n",
    "caffeine = 130\n",
    "hours = 0\n",
    "elimination = .87\n",
    "remhours = 25\n",
    "remcaffeine = 0\n",
    "\n",
    "# Calculations\n",
    "while hours < remhours:\n",
    "        remcaffeine = (remcaffeine * elimination) + caffeine\n",
    "        hours += 1\n",
    "\n",
    "# Print output\n",
    "print(f\"Hourly cups: {round(remcaffeine, 2)}mg will remain after {hours} hours.\")"
   ],
   "outputs": [
    {
     "output_type": "stream",
     "name": "stdout",
     "text": [
      "CAFFEINE VALUES\n",
      "One cup: less than 65mg will remain after 5 hours\n",
      "One cup: 4.6mg will remain after 24 hours.\n",
      "Hourly cups: 969.24mg will remain after 25 hours.\n"
     ]
    }
   ],
   "metadata": {}
  },
  {
   "cell_type": "markdown",
   "source": [
    "<strong>Individual Retirement Accounts</strong> - A program that calculates the amount of money each person has deposited into his/her account and the amount of money in each account upon retirement."
   ],
   "metadata": {}
  },
  {
   "cell_type": "code",
   "execution_count": 23,
   "source": [
    "r = 1.04\n",
    "earl = 0\n",
    "larry = 0\n",
    "t = 48\n",
    "add = 5000\n",
    "edep= 0\n",
    "ldep = 0\n",
    "\n",
    "\n",
    "## Amount Deposited\n",
    "# Earl\n",
    "for i in range(15):\n",
    "    edep = edep + add\n",
    "\n",
    "# Larry\n",
    "for i in range(t - 15):\n",
    "    ldep = ldep + add\n",
    "\n",
    "## Upon Retirement\n",
    "# Earl\n",
    "for i in range(15):\n",
    "    earl = float(r * earl + add)\n",
    "\n",
    "for i in range(t - 15):\n",
    "    earl = float(earl * r)\n",
    "\n",
    "# Larry\n",
    "for i in range(t - 15):\n",
    "    larry = float(r * larry + add)\n",
    "\n",
    "\n",
    "print(\"AMOUNTS DEPOSITED\")\n",
    "print(\"Earl: $\", round(edep, 2), \"\\t\\tLarry: $\", round(ldep, 2))\n",
    "print(\"AMOUNTS IN IRA UPON RETIRMENT\")\n",
    "print(\"Earl: $\", round(earl, 2), \"\\tLarry: $\", round(larry, 2))"
   ],
   "outputs": [
    {
     "output_type": "stream",
     "name": "stdout",
     "text": [
      "AMOUNTS DEPOSITED\n",
      "Earl: $ 75000 \t\tLarry: $ 165000\n",
      "AMOUNTS IN IRA UPON RETIRMENT\n",
      "Earl: $ 365268.39 \tLarry: $ 331047.64\n"
     ]
    }
   ],
   "metadata": {}
  },
  {
   "cell_type": "markdown",
   "source": [
    "<strong>Soundex System</strong> - Soundex is a system that encodes a word into a letter followed by three numbers that roughly describe how the word sounds. Similar sounding words have the same four-character codes. For instance, the words Carrot and Caret are both coded as C123. A slight cariation of the Soundex coding algorithm is as follows:<br>\n",
    "\n",
    "1. Return the first letter<br>\n",
    "2. For the remaining letters, delete all occurences of a, e, i, o, u, h, y, w.<br>\n",
    "3. Assign numbers to the other letters that remain so that<br>\n",
    "    a. b, f, p, and v become 1<br>\n",
    "    b. c, g, j, k, q, s, x, and z become 2<br>\n",
    "    c. d and t both become 3<br>\n",
    "    d. l becomes 4<br>\n",
    "    e. m and n become 5<br>\n",
    "    f. r becomes 6<br>\n",
    "4. If two or more letters that have been replaced by the same number were next to each other in the original full word, keep only the first of them.<br>\n",
    "5. Keep only the first four characters of what you have left. If you have fewer than four, then add zeros on the end to make the string have length four.<br>\n",
    "\n",
    "Write a program that carries out the algorithm."
   ],
   "metadata": {}
  },
  {
   "cell_type": "code",
   "execution_count": 74,
   "source": [
    "word = input(\"Enter a word to code: \")\n",
    "wordlen = len(word)\n",
    "coded = word [0]\n",
    "\n",
    "# Replace characters with numbers & prevent repetition\n",
    "for i in range(1, wordlen):\n",
    "    if (word [i] == 'b' or word [i] == 'f' or word [i] == 'p' or word [i] == 'v'):\n",
    "        if coded [-1] != '1':\n",
    "            coded = coded + '1'\n",
    "    elif (word [i] == 'c' or word [i] == 'g' or word [i] == 'j' or word [i] == 'k' or word [i] == 'q' or word [i] == 's' or word [i] == 'x' or word [i] == 'z'):\n",
    "        if coded [-1] != '2':\n",
    "            coded = coded + '2'\n",
    "    elif (word [i] == 'd' or word [i] == 't'):\n",
    "        if coded [-1] != '3':\n",
    "            coded = coded + '3'\n",
    "    elif (word [i] == word [i] == 'l'):\n",
    "        if coded [-1] != '4':\n",
    "            coded = coded + '4'\n",
    "    elif (word [i] == 'm' or word [i] == 'n'):\n",
    "        if coded [-1] != '5':\n",
    "            coded = coded + '5'\n",
    "    elif (word [i] == 'r'):\n",
    "        if coded [-1] != '6':\n",
    "            coded = coded + '6'\n",
    "\n",
    "# Remove characters over 4\n",
    "if len(coded) > 4:\n",
    "    coded = coded [0:4]\n",
    "\n",
    "# Add zeros if less than 4 characters\n",
    "while len(coded) < 4:\n",
    "    coded = coded + '0'\n",
    "\n",
    "print(\"The coded word is \", coded)"
   ],
   "outputs": [
    {
     "output_type": "stream",
     "name": "stdout",
     "text": [
      "The coded word is  R163\n"
     ]
    }
   ],
   "metadata": {}
  },
  {
   "cell_type": "markdown",
   "source": [
    "<strong>Error Deletion</strong> - Suppose you type a 14-digit credit card number into a Website, but mistype one of the digits or inadvertently interchange two adjacent digits. The Website will perform a validation check that always detects the first type of error and nearly always detects the second type of error. The validation check is as follows: <br>\n",
    "\n",
    "1. Starting with the leftmost digit, double it and then double every other digit after it. However, if any of the doubled digits is a two-digit number, subtract 9 from it. Then sum these new digits. For instance, if the credit card number is 58667936100244, then the digits considered are 5, 6, 7, 3, 1, 0, 4, their new replacements are 1, 3, 5, 6, 2, 0, 8, and the sum of the replacement is 25. <br>\n",
    "2. Sum together the remaining seven digits from the credit card number. That is, the digits in the odd-numbered positions. With the credit card number above, we obtain 8 + 6 + 9 + 6 + 0 + 2 + 4 = 35. <br>\n",
    "3. Add together the two sums. If the result is a multiple of 10, then accept the credit card number. Otherwise, reject it. We accpet the credit card number above since 25 + 35 = 60, a multiple of 10. <br>\n",
    "\n",
    "Write a program that performs data validation on a credit card number."
   ],
   "metadata": {}
  },
  {
   "cell_type": "code",
   "execution_count": 9,
   "source": [
    "num = input(\"Enter a credit card number: \")\n",
    "evennum = 0\n",
    "oddnum = 0\n",
    "num1 = 0\n",
    "check = 0\n",
    "\n",
    "# Multiply every other number * 2 and add together\n",
    "for i in num [0::2]:\n",
    "    num1 = int(i) * 2 \n",
    "    if num1 >= 10:\n",
    "        num1 = num1 - 9\n",
    "        evennum = evennum + num1\n",
    "    else:\n",
    "        evennum = evennum + num1\n",
    "\n",
    "# Add every odd number together\n",
    "for i in num [1::2]:\n",
    "    oddnum = oddnum + int(i) \n",
    "\n",
    "# Add both equations together\n",
    "check = evennum + oddnum\n",
    "\n",
    "# If sum is multiple of 10 valid. If not invalid.\n",
    "if check % 10 == 0:\n",
    "    print(\"The number is valid\")\n",
    "else:\n",
    "    print(\"The number is invalid\")"
   ],
   "outputs": [
    {
     "output_type": "stream",
     "name": "stdout",
     "text": [
      "The number is valid\n"
     ]
    }
   ],
   "metadata": {}
  },
  {
   "cell_type": "markdown",
   "source": [
    "<strong>Palindrome</strong> - A palindrome is a word or phrase that reads the same forward and backward, character for character, disregarding punctuation, case, and spaces. Some examples are \"racecar\", \"Madam, I'm Adam\", and \"Was it a cat I saw?\". Write a program that asks the user to input a word or phrase and then determines if it is a palindrome.<br>\n",
    "Remove all spaces and punctuation before analyzing the word or phrase."
   ],
   "metadata": {}
  },
  {
   "cell_type": "code",
   "execution_count": 20,
   "source": [
    "str1 = input(\"Enter a word or phrase: \")\n",
    "\n",
    "# Remove special characters and spaces\n",
    "str2 = \"\".join(filter(str.isalnum, str1))\n",
    "\n",
    "# Convert string to all uppercase\n",
    "str2 = str2.upper()\n",
    "\n",
    "# Reverse the modified input\n",
    "check = str2 [-1::-1]\n",
    "\n",
    "# If converted string is equal to modified input is palindrome otherwise not a palindrome\n",
    "if check == str2:\n",
    "    print(str1.upper(), \"is a palindrome.\")\n",
    "else:\n",
    "    print(str1.upper(), \"is not a plaindrome\")"
   ],
   "outputs": [
    {
     "output_type": "stream",
     "name": "stdout",
     "text": [
      "A MAN, A PLAN, A CANAL: PANAMA. is a palindrome.\n"
     ]
    }
   ],
   "metadata": {}
  }
 ],
 "metadata": {
  "orig_nbformat": 4,
  "language_info": {
   "name": "python",
   "version": "3.9.5",
   "mimetype": "text/x-python",
   "codemirror_mode": {
    "name": "ipython",
    "version": 3
   },
   "pygments_lexer": "ipython3",
   "nbconvert_exporter": "python",
   "file_extension": ".py"
  },
  "kernelspec": {
   "name": "python3",
   "display_name": "Python 3.9.5 64-bit ('base': conda)"
  },
  "interpreter": {
   "hash": "fed022698049d383c9dda41b5f78a938d70f3d53d28a8c05baaf1f6cbcf866d0"
  }
 },
 "nbformat": 4,
 "nbformat_minor": 2
}